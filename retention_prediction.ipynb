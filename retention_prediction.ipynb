{
 "cells": [
  {
   "cell_type": "code",
   "execution_count": 1,
   "id": "f99187ff",
   "metadata": {},
   "outputs": [
    {
     "name": "stderr",
     "output_type": "stream",
     "text": [
      "<frozen importlib._bootstrap>:228: RuntimeWarning: scipy._lib.messagestream.MessageStream size changed, may indicate binary incompatibility. Expected 56 from C header, got 64 from PyObject\n"
     ]
    }
   ],
   "source": [
    "# import packages\n",
    "import pandas as pd\n",
    "import matplotlib.pyplot as plt\n",
    "import seaborn as sns\n",
    "import sklearn\n",
    "\n",
    "from statsmodels.stats.outliers_influence import variance_inflation_factor\n",
    "from statsmodels.tools.tools import add_constant\n",
    "from sklearn.metrics import confusion_matrix, ConfusionMatrixDisplay, f1_score, precision_score, recall_score\n"
   ]
  },
  {
   "cell_type": "markdown",
   "id": "1f9b0628",
   "metadata": {},
   "source": [
    "## Preprocess"
   ]
  },
  {
   "cell_type": "code",
   "execution_count": 2,
   "id": "8ca02f5c",
   "metadata": {},
   "outputs": [
    {
     "data": {
      "text/plain": [
       "(2698, 26)"
      ]
     },
     "execution_count": 2,
     "metadata": {},
     "output_type": "execute_result"
    }
   ],
   "source": [
    "df = pd.read_csv(\"/Users/tongtianyi/Desktop/Spring 2024/ml and ai for health/finalproject/final/final_filtered_df.csv\")\n",
    "df.shape"
   ]
  },
  {
   "cell_type": "code",
   "execution_count": 3,
   "id": "d5474404",
   "metadata": {},
   "outputs": [
    {
     "data": {
      "text/plain": [
       "True"
      ]
     },
     "execution_count": 3,
     "metadata": {},
     "output_type": "execute_result"
    }
   ],
   "source": [
    "# Checking for uniqueness\n",
    "is_unique = df['Case-Safe ID'].is_unique\n",
    "is_unique"
   ]
  },
  {
   "cell_type": "markdown",
   "id": "86640a45",
   "metadata": {},
   "source": [
    "### merge with student applicaiton data "
   ]
  },
  {
   "cell_type": "code",
   "execution_count": 4,
   "id": "e0986fa3",
   "metadata": {},
   "outputs": [
    {
     "data": {
      "text/plain": [
       "(2840, 14)"
      ]
     },
     "execution_count": 4,
     "metadata": {},
     "output_type": "execute_result"
    }
   ],
   "source": [
    "gpa = pd.read_excel(\"/Users/tongtianyi/Desktop/Spring 2024/ml and ai for health/finalproject/student_application.xlsx\")\n",
    "gpa.shape"
   ]
  },
  {
   "cell_type": "code",
   "execution_count": 5,
   "id": "1b914a52",
   "metadata": {},
   "outputs": [],
   "source": [
    "# Selecting only 'Case-Safe ID' and 'GPA' columns from the gpa DataFrame\n",
    "gpa_selected = gpa[['Case-Safe ID', 'GPA Unweighted','Student Application: Gender','Student Application: I Live With']]\n",
    "\n",
    "# Merging the selected columns into enroll_df\n",
    "df = pd.merge(df, gpa_selected, on='Case-Safe ID', how='inner')"
   ]
  },
  {
   "cell_type": "code",
   "execution_count": 9,
   "id": "b0aeaa94",
   "metadata": {},
   "outputs": [],
   "source": [
    "df['persistence'] = df['persistent']\n",
    "del df['persistent']"
   ]
  },
  {
   "cell_type": "code",
   "execution_count": 10,
   "id": "49a679a6",
   "metadata": {},
   "outputs": [
    {
     "data": {
      "text/plain": [
       "1    2008\n",
       "0     690\n",
       "Name: persistence, dtype: int64"
      ]
     },
     "execution_count": 10,
     "metadata": {},
     "output_type": "execute_result"
    }
   ],
   "source": [
    "df['persistence'].value_counts()"
   ]
  },
  {
   "cell_type": "code",
   "execution_count": 11,
   "id": "6dd36a68",
   "metadata": {},
   "outputs": [],
   "source": [
    "df['retention'] = df['persistent_same_school']\n",
    "del df['persistent_same_school']"
   ]
  },
  {
   "cell_type": "code",
   "execution_count": 12,
   "id": "38b28f51",
   "metadata": {},
   "outputs": [
    {
     "data": {
      "text/plain": [
       "1    1667\n",
       "0    1031\n",
       "Name: retention, dtype: int64"
      ]
     },
     "execution_count": 12,
     "metadata": {},
     "output_type": "execute_result"
    }
   ],
   "source": [
    "df['retention'].value_counts()"
   ]
  },
  {
   "cell_type": "markdown",
   "id": "cbb54e07",
   "metadata": {},
   "source": [
    "### Outlier Identification & Missing Value Imputation"
   ]
  },
  {
   "cell_type": "code",
   "execution_count": 13,
   "id": "76ab96c7",
   "metadata": {},
   "outputs": [
    {
     "data": {
      "image/png": "[encoded data removed]",
      "text/plain": [
       "<Figure size 720x432 with 1 Axes>"
      ]
     },
     "metadata": {
      "needs_background": "light"
     },
     "output_type": "display_data"
    }
   ],
   "source": [
    "# Setting up the plotting area\n",
    "plt.figure(figsize=(10, 6))\n",
    "sns.boxplot(x='College Name: Minority Grad Rate', data=df)\n",
    "\n",
    "# Adding title and labels\n",
    "plt.title('Boxplot of College Name: Minority Grad Rate')\n",
    "plt.xlabel('Minority Grad Rate')\n",
    "\n",
    "# Display the plot\n",
    "plt.show()"
   ]
  },
  {
   "cell_type": "code",
   "execution_count": 14,
   "id": "5dc03a4b",
   "metadata": {},
   "outputs": [
    {
     "name": "stdout",
     "output_type": "stream",
     "text": [
      "Outliers:\n",
      "Empty DataFrame\n",
      "Columns: [Case-Safe ID, GW Class Year, GW Location, College Name: Account Name, Age, FRL, First Generation?, Race/Ethnicity, Current Last Enrollment Begin, College Type (2 vs 4 year), 2nd Year College Persistence, College Name: Public vs. Private, College Name: Minority Grad Rate, College Name: School Size, college_name, college_state, GW_location, college_location, timeline, uni_amount, records_amount, persistence, transfer, in_state, persistent, persistent_same_school, GPA Unweighted, Student Application: Gender, Student Application: I Live With]\n",
      "Index: []\n",
      "\n",
      "[0 rows x 29 columns]\n"
     ]
    }
   ],
   "source": [
    "# Calculate Q1 (25th percentile) and Q3 (75th percentile)\n",
    "Q1 = df['College Name: Minority Grad Rate'].quantile(0.25)\n",
    "Q3 = df['College Name: Minority Grad Rate'].quantile(0.75)\n",
    "\n",
    "# Calculate IQR\n",
    "IQR = Q3 - Q1\n",
    "\n",
    "# Determine the outlier thresholds\n",
    "lower_bound = Q1 - 1.5 * IQR\n",
    "upper_bound = Q3 + 1.5 * IQR\n",
    "\n",
    "# Identify outliers\n",
    "outliers = df[(df['College Name: Minority Grad Rate'] < lower_bound) | \n",
    "                    (df['College Name: Minority Grad Rate'] > upper_bound)]\n",
    "\n",
    "# Display outliers\n",
    "print(\"Outliers:\")\n",
    "print(outliers)\n"
   ]
  },
  {
   "cell_type": "code",
   "execution_count": 16,
   "id": "1b96eade",
   "metadata": {},
   "outputs": [
    {
     "name": "stdout",
     "output_type": "stream",
     "text": [
      "Remaining NaNs in dataset: 0\n"
     ]
    }
   ],
   "source": [
    "from sklearn.impute import KNNImputer\n",
    "import numpy as np\n",
    "\n",
    "imputer = KNNImputer(n_neighbors=10) \n",
    "\n",
    "df['minority'] = imputer.fit_transform(df[['College Name: Minority Grad Rate']])\n",
    "\n",
    "# Check if NaNs are still present\n",
    "print(\"Remaining NaNs in dataset:\", np.isnan(df['minority']).sum())\n"
   ]
  },
  {
   "cell_type": "code",
   "execution_count": 17,
   "id": "adcac3da",
   "metadata": {},
   "outputs": [],
   "source": [
    "df['FRL'] = df['FRL'].replace({'Yes': 1, 'No': 0, 'Unsure': 0, np.nan: 0})\n",
    "df['first_gen'] = df['First Generation?'].replace({'Yes': 1, 'No': 0, np.nan: 0})\n",
    "df['4_year'] = df['College Type (2 vs 4 year)'].replace({'4 year': 1, '2 year': 0, np.nan: 1})"
   ]
  },
  {
   "cell_type": "code",
   "execution_count": 18,
   "id": "8e9c60c3",
   "metadata": {},
   "outputs": [
    {
     "name": "stdout",
     "output_type": "stream",
     "text": [
      "Remaining NaNs in dataset: 0\n",
      "Remaining NaNs in dataset: 0\n",
      "Remaining NaNs in dataset: 0\n"
     ]
    }
   ],
   "source": [
    "print(\"Remaining NaNs in dataset:\", np.isnan(df['FRL']).sum())\n",
    "print(\"Remaining NaNs in dataset:\", np.isnan(df['first_gen']).sum())\n",
    "print(\"Remaining NaNs in dataset:\", np.isnan(df['4_year']).sum())"
   ]
  },
  {
   "cell_type": "code",
   "execution_count": 19,
   "id": "c84b34ed",
   "metadata": {},
   "outputs": [
    {
     "data": {
      "image/png": "[encoded data removed]",
      "text/plain": [
       "<Figure size 720x432 with 1 Axes>"
      ]
     },
     "metadata": {
      "needs_background": "light"
     },
     "output_type": "display_data"
    }
   ],
   "source": [
    "# Setting up the plotting area\n",
    "plt.figure(figsize=(10, 6))\n",
    "sns.boxplot(x='GPA Unweighted', data=df)\n",
    "\n",
    "# Adding title and labels\n",
    "plt.title('Boxplot of GPA Unweighted')\n",
    "plt.xlabel('GPA Unweighted')\n",
    "\n",
    "# Display the plot\n",
    "plt.show()"
   ]
  },
  {
   "cell_type": "code",
   "execution_count": 20,
   "id": "62bee99a",
   "metadata": {},
   "outputs": [
    {
     "name": "stdout",
     "output_type": "stream",
     "text": [
      "Outliers:\n",
      "            Case-Safe ID  GW Class Year  GW Location  \\\n",
      "387   0030h00002JXUIqAAP           2019  Twin Cities   \n",
      "619   0030h00002R1EZSAA3           2020  Twin Cities   \n",
      "645   0030h00002R3iUIAAZ           2020      Houston   \n",
      "833   0030h00002RaayzAAB           2020      Houston   \n",
      "946   0030h00002RsIWHAA3           2020  Twin Cities   \n",
      "1381  0030h00002aE1QMAA0           2021      Chicago   \n",
      "1525  0031A000028V5jhQAC           2018      Houston   \n",
      "1652  0031A000028gqbdQAA           2018      Houston   \n",
      "1678  0031A000028uG5lQAE           2018  Twin Cities   \n",
      "1700  0031A000028vIBGQA2           2018  Twin Cities   \n",
      "1762  0031A000028xLG7QAM           2018      Houston   \n",
      "2406  0034u00002cffV2AAI           2023     Bay Area   \n",
      "2458  0034u00002gp1ktAAA           2023  Twin Cities   \n",
      "\n",
      "               College Name: Account Name  Age  FRL First Generation?  \\\n",
      "387         Inver Hills Community College   23  1.0               Yes   \n",
      "619         Inver Hills Community College   21  1.0               Yes   \n",
      "645                  South Plains College   22  1.0               Yes   \n",
      "833                   Langston University   22  1.0               Yes   \n",
      "946          Normandale Community College   21  1.0               Yes   \n",
      "1381    University of Illinois at Chicago   21  1.0               Yes   \n",
      "1525            Houston Community College   25  1.0                No   \n",
      "1652            Houston Community College   23  1.0               Yes   \n",
      "1678                   Saint Paul College   24  1.0               Yes   \n",
      "1700     North Hennepin Community College   24  0.0               Yes   \n",
      "1762            Houston Community College   23  1.0                No   \n",
      "2406       San Francisco State University   19  1.0               Yes   \n",
      "2458  University of Minnesota-Twin Cities   19  0.0               Yes   \n",
      "\n",
      "                 Race/Ethnicity Current Last Enrollment Begin  \\\n",
      "387                   Caucasian                     8/26/2019   \n",
      "619            African American                      1/8/2024   \n",
      "645            African American                     8/29/2022   \n",
      "833            African American                      1/8/2024   \n",
      "946            African American                      1/8/2024   \n",
      "1381         Hispanic or Latino                      1/8/2024   \n",
      "1525           African American                     1/17/2023   \n",
      "1652                  Caucasian                     8/21/2023   \n",
      "1678                      Hmong                     1/10/2022   \n",
      "1700                  Caucasian                     5/28/2019   \n",
      "1762                      Asian                     1/16/2024   \n",
      "2406         Hispanic or Latino                     8/21/2023   \n",
      "2458  Black or African American                      9/5/2023   \n",
      "\n",
      "     College Type (2 vs 4 year)  ...  persistence transfer  in_state  \\\n",
      "387                      2 year  ...            0        0         1   \n",
      "619                      2 year  ...            1        1         1   \n",
      "645                      2 year  ...            1        0         1   \n",
      "833                      4 year  ...            1        1         0   \n",
      "946                      2 year  ...            1        1         1   \n",
      "1381                     4 year  ...            1        0         1   \n",
      "1525                     2 year  ...            1        0         1   \n",
      "1652                     2 year  ...            1        0         1   \n",
      "1678                     2 year  ...            1        0         1   \n",
      "1700                     2 year  ...            0        0         1   \n",
      "1762                     2 year  ...            1        1         1   \n",
      "2406                     4 year  ...            0        0         1   \n",
      "2458                     4 year  ...            0        0         1   \n",
      "\n",
      "      GPA Unweighted Student Application: Gender  \\\n",
      "387            1.484                        Male   \n",
      "619            1.680                        Male   \n",
      "645            1.600                        Male   \n",
      "833            1.840                        Male   \n",
      "946            1.770                        Male   \n",
      "1381           0.000                      Female   \n",
      "1525           1.854                        Male   \n",
      "1652           1.687                        Male   \n",
      "1678           1.300                        Male   \n",
      "1700           1.650                        Male   \n",
      "1762           1.440                        Male   \n",
      "2406           1.860                      Female   \n",
      "2458           1.800                      Female   \n",
      "\n",
      "     Student Application: I Live With retention minority first_gen  4_year  \n",
      "387                       Two parents         0    19.83       1.0     0.0  \n",
      "619                       Two parents         0    19.83       1.0     0.0  \n",
      "645                        One parent         1    74.56       1.0     0.0  \n",
      "833                        One parent         1    22.88       1.0     1.0  \n",
      "946                       Two parents         1    18.33       1.0     0.0  \n",
      "1381                      Two parents         1    39.80       1.0     1.0  \n",
      "1525                            Other         1    12.33       0.0     0.0  \n",
      "1652                      Two parents         1    12.33       1.0     0.0  \n",
      "1678                      Two parents         1    22.54       1.0     0.0  \n",
      "1700                      Two parents         0    16.10       1.0     0.0  \n",
      "1762                      Two parents         1    12.33       0.0     0.0  \n",
      "2406                       One parent         0    30.01       1.0     1.0  \n",
      "2458                      Two parents         0    40.07       1.0     1.0  \n",
      "\n",
      "[13 rows x 31 columns]\n"
     ]
    }
   ],
   "source": [
    "# Calculate Q1 (25th percentile) and Q3 (75th percentile)\n",
    "Q1 = df['GPA Unweighted'].quantile(0.25)\n",
    "Q3 = df['GPA Unweighted'].quantile(0.75)\n",
    "\n",
    "# Calculate IQR\n",
    "IQR = Q3 - Q1\n",
    "\n",
    "# Determine the outlier thresholds\n",
    "lower_bound = Q1 - 1.5 * IQR\n",
    "upper_bound = Q3 + 1.5 * IQR\n",
    "\n",
    "# Identify outliers\n",
    "outliers = df[(df['GPA Unweighted'] < lower_bound) | \n",
    "                    (df['GPA Unweighted'] > upper_bound)]\n",
    "\n",
    "# Display outliers\n",
    "print(\"Outliers:\")\n",
    "print(outliers)\n"
   ]
  },
  {
   "cell_type": "code",
   "execution_count": 22,
   "id": "3e1d6a33",
   "metadata": {},
   "outputs": [],
   "source": [
    "# Replace outliers with lower_bound\n",
    "df.loc[df['GPA Unweighted'] < lower_bound, 'GPA Unweighted'] = lower_bound\n",
    "df.loc[df['GPA Unweighted'] > upper_bound, 'GPA Unweighted'] = upper_bound\n"
   ]
  },
  {
   "cell_type": "code",
   "execution_count": 23,
   "id": "5b60c97d",
   "metadata": {},
   "outputs": [
    {
     "name": "stdout",
     "output_type": "stream",
     "text": [
      "Remaining NaNs in dataset: 593\n"
     ]
    }
   ],
   "source": [
    "print(\"Remaining NaNs in dataset:\", np.isnan(df['GPA Unweighted']).sum())\n"
   ]
  },
  {
   "cell_type": "code",
   "execution_count": 24,
   "id": "75ea9d07",
   "metadata": {},
   "outputs": [
    {
     "name": "stdout",
     "output_type": "stream",
     "text": [
      "Remaining NaNs in dataset: 0\n"
     ]
    }
   ],
   "source": [
    "imputer = KNNImputer(n_neighbors=10) \n",
    "\n",
    "df['gpa'] = imputer.fit_transform(df[['GPA Unweighted']])\n",
    "\n",
    "# Check if NaNs are still present\n",
    "print(\"Remaining NaNs in dataset:\", np.isnan(df['gpa']).sum())\n"
   ]
  },
  {
   "cell_type": "markdown",
   "id": "6cb75303",
   "metadata": {},
   "source": [
    "### Recategorization"
   ]
  },
  {
   "cell_type": "code",
   "execution_count": 25,
   "id": "cd5827fc",
   "metadata": {},
   "outputs": [
    {
     "data": {
      "text/plain": [
       "array(['Two parents', 'One parent', 'A family member', 'Other',\n",
       "       'A family member (like a grandparent, aunt/uncle, or sibling)',\n",
       "       nan], dtype=object)"
      ]
     },
     "execution_count": 25,
     "metadata": {},
     "output_type": "execute_result"
    }
   ],
   "source": [
    "df['Student Application: I Live With'].unique()"
   ]
  },
  {
   "cell_type": "code",
   "execution_count": 26,
   "id": "68f61a11",
   "metadata": {},
   "outputs": [],
   "source": [
    "categorization_map = {\n",
    "    'Two parents': 'Two parents',\n",
    "    'One parent': 'One parent',\n",
    "    'A family member': 'Other',\n",
    "    'Other': 'Other',\n",
    "    'A family member (like a grandparent, aunt/uncle, or sibling': 'Other',\n",
    "    np.nan: 'Other'\n",
    "}\n",
    "\n",
    "# Applying the categorization\n",
    "df['household'] = df['Student Application: I Live With'].map(categorization_map)\n"
   ]
  },
  {
   "cell_type": "code",
   "execution_count": 27,
   "id": "13141c29",
   "metadata": {},
   "outputs": [],
   "source": [
    "df['household'] = df['household'].fillna('Other')"
   ]
  },
  {
   "cell_type": "code",
   "execution_count": 28,
   "id": "7f4f7c12",
   "metadata": {},
   "outputs": [
    {
     "data": {
      "text/plain": [
       "array(['Two parents', 'One parent', 'Other'], dtype=object)"
      ]
     },
     "execution_count": 28,
     "metadata": {},
     "output_type": "execute_result"
    }
   ],
   "source": [
    "df['household'].unique()"
   ]
  },
  {
   "cell_type": "code",
   "execution_count": 29,
   "id": "bf445850",
   "metadata": {},
   "outputs": [
    {
     "data": {
      "text/plain": [
       "array(['Female', 'Male', nan, 'Not disclosed', 'Non-binary'], dtype=object)"
      ]
     },
     "execution_count": 29,
     "metadata": {},
     "output_type": "execute_result"
    }
   ],
   "source": [
    "df['Student Application: Gender'].unique()"
   ]
  },
  {
   "cell_type": "code",
   "execution_count": 30,
   "id": "9e30afd8",
   "metadata": {},
   "outputs": [],
   "source": [
    "categorization_map = {\n",
    "    'Female': 'Female',\n",
    "    'Male': 'Male',\n",
    "    'Not disclosed': 'Other',\n",
    "    'Non-binary': 'Other',\n",
    "    np.nan: 'Other'\n",
    "}\n",
    "\n",
    "# Applying the categorization\n",
    "df['gender'] = df['Student Application: Gender'].map(categorization_map)\n"
   ]
  },
  {
   "cell_type": "code",
   "execution_count": 31,
   "id": "8b28d48f",
   "metadata": {},
   "outputs": [
    {
     "data": {
      "text/plain": [
       "array(['Female', 'Male', 'Other'], dtype=object)"
      ]
     },
     "execution_count": 31,
     "metadata": {},
     "output_type": "execute_result"
    }
   ],
   "source": [
    "df['gender'].unique()"
   ]
  },
  {
   "cell_type": "code",
   "execution_count": 32,
   "id": "ecd2abcc",
   "metadata": {},
   "outputs": [
    {
     "data": {
      "text/plain": [
       "array(['African Immigrant', 'African American',\n",
       "       'Black or African American', 'Hmong', 'Hispanic or Latino',\n",
       "       'Other Asian', 'Asian', 'Two or More Races', 'Caucasian', 'Other',\n",
       "       nan, 'Not Disclosed', 'White', 'Native American or Alaska Native',\n",
       "       'Black', 'Native Hawaiian or Pacific Islander',\n",
       "       'Hawaiian/Pacific Islander', 'American Indian/Alaskan Native'],\n",
       "      dtype=object)"
      ]
     },
     "execution_count": 32,
     "metadata": {},
     "output_type": "execute_result"
    }
   ],
   "source": [
    "df['Race/Ethnicity'].unique()"
   ]
  },
  {
   "cell_type": "code",
   "execution_count": 33,
   "id": "0d14868c",
   "metadata": {},
   "outputs": [],
   "source": [
    "categorization_map = {\n",
    "    'African Immigrant': 'Black or African American',\n",
    "    'African American': 'Black or African American',\n",
    "    'Black or African American': 'Black or African American',\n",
    "    'Black': 'Black or African American',\n",
    "    'Hmong': 'Asian',\n",
    "    'Other Asian': 'Asian',\n",
    "    'Asian': 'Asian',\n",
    "    'Hispanic or Latino': 'Hispanic or Latino',\n",
    "    'Two or More Races': 'Other',\n",
    "    'Caucasian': 'White',\n",
    "    'White': 'White',\n",
    "    'Native American or Alaska Native': 'Indigenous/Islander',\n",
    "    'American Indian/Alaskan Native': 'Indigenous/Islander',\n",
    "    'Native Hawaiian or Pacific Islander': 'Indigenous/Islander',\n",
    "    'Hawaiian/Pacific Islander': 'Indigenous/Islander',\n",
    "    'Other': 'Other',\n",
    "    'Not Disclosed': 'Other',\n",
    "    None: 'Other'\n",
    "}\n",
    "\n",
    "# Applying the categorization\n",
    "df['race'] = df['Race/Ethnicity'].map(categorization_map)\n"
   ]
  },
  {
   "cell_type": "code",
   "execution_count": 34,
   "id": "71fde255",
   "metadata": {},
   "outputs": [
    {
     "data": {
      "text/plain": [
       "array(['Public', 'Private not-for-profit', 'Private for-profit',\n",
       "       'Private', nan], dtype=object)"
      ]
     },
     "execution_count": 34,
     "metadata": {},
     "output_type": "execute_result"
    }
   ],
   "source": [
    "df['College Name: Public vs. Private'].unique()"
   ]
  },
  {
   "cell_type": "code",
   "execution_count": 35,
   "id": "f9ff639e",
   "metadata": {},
   "outputs": [],
   "source": [
    "categorization_map = {\n",
    "    'Private not-for-profit': 0,\n",
    "    'Private for-profit': 0,\n",
    "    'Public': 1,\n",
    "    'Private': 0\n",
    "}\n",
    "\n",
    "# Applying the categorization\n",
    "df['public'] = df['College Name: Public vs. Private'].map(categorization_map)\n"
   ]
  },
  {
   "cell_type": "code",
   "execution_count": 36,
   "id": "a2e54b90",
   "metadata": {},
   "outputs": [
    {
     "data": {
      "text/plain": [
       "0       Female\n",
       "1       Female\n",
       "2       Female\n",
       "3         Male\n",
       "4         Male\n",
       "         ...  \n",
       "2693    Female\n",
       "2694      Male\n",
       "2695    Female\n",
       "2696    Female\n",
       "2697    Female\n",
       "Name: Gender, Length: 2698, dtype: object"
      ]
     },
     "execution_count": 36,
     "metadata": {},
     "output_type": "execute_result"
    }
   ],
   "source": [
    "majority_gender = df['gender'].value_counts().idxmax()\n",
    "df['Gender'] = df['gender'].replace('Other', majority_gender)\n",
    "df['Gender']"
   ]
  },
  {
   "cell_type": "code",
   "execution_count": 37,
   "id": "a085865b",
   "metadata": {},
   "outputs": [
    {
     "data": {
      "text/plain": [
       "array(['Black or African American', 'Asian', 'Hispanic or Latino',\n",
       "       'Other', 'White', nan, 'Indigenous/Islander'], dtype=object)"
      ]
     },
     "execution_count": 37,
     "metadata": {},
     "output_type": "execute_result"
    }
   ],
   "source": [
    "df['race'].unique()"
   ]
  },
  {
   "cell_type": "code",
   "execution_count": 38,
   "id": "6d57ac42",
   "metadata": {},
   "outputs": [],
   "source": [
    "df['Race'] = df['race'].fillna('Black or African American')"
   ]
  },
  {
   "cell_type": "code",
   "execution_count": 39,
   "id": "1001d663",
   "metadata": {},
   "outputs": [],
   "source": [
    "df['Race'] = df['Race'].replace('Indigenous/Islander', 'Other')"
   ]
  },
  {
   "cell_type": "code",
   "execution_count": 40,
   "id": "f632fa30",
   "metadata": {},
   "outputs": [
    {
     "data": {
      "text/plain": [
       "Black or African American    977\n",
       "Hispanic or Latino           863\n",
       "Asian                        624\n",
       "Other                        142\n",
       "White                         92\n",
       "Name: Race, dtype: int64"
      ]
     },
     "execution_count": 40,
     "metadata": {},
     "output_type": "execute_result"
    }
   ],
   "source": [
    "df['Race'].value_counts()"
   ]
  },
  {
   "cell_type": "code",
   "execution_count": 41,
   "id": "19879687",
   "metadata": {},
   "outputs": [
    {
     "data": {
      "text/plain": [
       "Index(['Case-Safe ID', 'GW Class Year', 'GW Location',\n",
       "       'College Name: Account Name', 'Age', 'FRL', 'First Generation?',\n",
       "       'Race/Ethnicity', 'Current Last Enrollment Begin',\n",
       "       'College Type (2 vs 4 year)', '2nd Year College Persistence',\n",
       "       'College Name: Public vs. Private', 'College Name: Minority Grad Rate',\n",
       "       'College Name: School Size', 'college_name', 'college_state',\n",
       "       'GW_location', 'college_location', 'timeline', 'uni_amount',\n",
       "       'records_amount', 'persistence', 'transfer', 'in_state',\n",
       "       'GPA Unweighted', 'Student Application: Gender',\n",
       "       'Student Application: I Live With', 'retention', 'minority',\n",
       "       'first_gen', '4_year', 'gpa', 'household', 'gender', 'race', 'public',\n",
       "       'Gender', 'Race'],\n",
       "      dtype='object')"
      ]
     },
     "execution_count": 41,
     "metadata": {},
     "output_type": "execute_result"
    }
   ],
   "source": [
    "df.columns"
   ]
  },
  {
   "cell_type": "markdown",
   "id": "b92eaf8d",
   "metadata": {},
   "source": [
    "### select features for modeling"
   ]
  },
  {
   "cell_type": "code",
   "execution_count": 53,
   "id": "f138397f",
   "metadata": {},
   "outputs": [],
   "source": [
    "df_new = df[[\n",
    "       'FRL', 'Age',\n",
    "       'college_name', 'retention', 'in_state',\n",
    "       'gpa', 'Gender',\n",
    "       'household', 'minority', 'first_gen', '4_year', 'Race', 'public']]"
   ]
  },
  {
   "cell_type": "code",
   "execution_count": 54,
   "id": "4291e434",
   "metadata": {},
   "outputs": [
    {
     "data": {
      "text/plain": [
       "True"
      ]
     },
     "execution_count": 54,
     "metadata": {},
     "output_type": "execute_result"
    }
   ],
   "source": [
    "nan_in_df = df_new.isnull().sum().any()\n",
    " \n",
    "nan_in_df"
   ]
  },
  {
   "cell_type": "code",
   "execution_count": 55,
   "id": "97816f81",
   "metadata": {},
   "outputs": [
    {
     "data": {
      "text/html": [
       "<div>\n",
       "<style scoped>\n",
       "    .dataframe tbody tr th:only-of-type {\n",
       "        vertical-align: middle;\n",
       "    }\n",
       "\n",
       "    .dataframe tbody tr th {\n",
       "        vertical-align: top;\n",
       "    }\n",
       "\n",
       "    .dataframe thead th {\n",
       "        text-align: right;\n",
       "    }\n",
       "</style>\n",
       "<table border=\"1\" class=\"dataframe\">\n",
       "  <thead>\n",
       "    <tr style=\"text-align: right;\">\n",
       "      <th></th>\n",
       "      <th>FRL</th>\n",
       "      <th>Age</th>\n",
       "      <th>college_name</th>\n",
       "      <th>retention</th>\n",
       "      <th>in_state</th>\n",
       "      <th>gpa</th>\n",
       "      <th>Gender</th>\n",
       "      <th>household</th>\n",
       "      <th>minority</th>\n",
       "      <th>first_gen</th>\n",
       "      <th>4_year</th>\n",
       "      <th>Race</th>\n",
       "      <th>public</th>\n",
       "    </tr>\n",
       "  </thead>\n",
       "  <tbody>\n",
       "    <tr>\n",
       "      <th>1113</th>\n",
       "      <td>0.0</td>\n",
       "      <td>21</td>\n",
       "      <td>Texas State Technical College-Fort Bend</td>\n",
       "      <td>0</td>\n",
       "      <td>1</td>\n",
       "      <td>3.070000</td>\n",
       "      <td>Female</td>\n",
       "      <td>One parent</td>\n",
       "      <td>38.544339</td>\n",
       "      <td>1.0</td>\n",
       "      <td>1.0</td>\n",
       "      <td>Hispanic or Latino</td>\n",
       "      <td>NaN</td>\n",
       "    </tr>\n",
       "    <tr>\n",
       "      <th>1666</th>\n",
       "      <td>1.0</td>\n",
       "      <td>24</td>\n",
       "      <td>Year Up Chicago</td>\n",
       "      <td>0</td>\n",
       "      <td>1</td>\n",
       "      <td>2.523000</td>\n",
       "      <td>Male</td>\n",
       "      <td>Other</td>\n",
       "      <td>38.544339</td>\n",
       "      <td>1.0</td>\n",
       "      <td>1.0</td>\n",
       "      <td>Hispanic or Latino</td>\n",
       "      <td>NaN</td>\n",
       "    </tr>\n",
       "    <tr>\n",
       "      <th>2177</th>\n",
       "      <td>1.0</td>\n",
       "      <td>20</td>\n",
       "      <td>American University</td>\n",
       "      <td>1</td>\n",
       "      <td>0</td>\n",
       "      <td>3.303456</td>\n",
       "      <td>Male</td>\n",
       "      <td>Two parents</td>\n",
       "      <td>38.544339</td>\n",
       "      <td>1.0</td>\n",
       "      <td>1.0</td>\n",
       "      <td>Asian</td>\n",
       "      <td>NaN</td>\n",
       "    </tr>\n",
       "    <tr>\n",
       "      <th>2330</th>\n",
       "      <td>0.0</td>\n",
       "      <td>18</td>\n",
       "      <td>City College of New York</td>\n",
       "      <td>0</td>\n",
       "      <td>1</td>\n",
       "      <td>3.303456</td>\n",
       "      <td>Male</td>\n",
       "      <td>Two parents</td>\n",
       "      <td>38.544339</td>\n",
       "      <td>1.0</td>\n",
       "      <td>1.0</td>\n",
       "      <td>Hispanic or Latino</td>\n",
       "      <td>NaN</td>\n",
       "    </tr>\n",
       "    <tr>\n",
       "      <th>2450</th>\n",
       "      <td>0.0</td>\n",
       "      <td>18</td>\n",
       "      <td>Minneapolis Community &amp; Technical College</td>\n",
       "      <td>0</td>\n",
       "      <td>1</td>\n",
       "      <td>3.270000</td>\n",
       "      <td>Male</td>\n",
       "      <td>One parent</td>\n",
       "      <td>38.544339</td>\n",
       "      <td>1.0</td>\n",
       "      <td>1.0</td>\n",
       "      <td>Black or African American</td>\n",
       "      <td>NaN</td>\n",
       "    </tr>\n",
       "    <tr>\n",
       "      <th>2474</th>\n",
       "      <td>0.0</td>\n",
       "      <td>20</td>\n",
       "      <td>Binghamton University</td>\n",
       "      <td>0</td>\n",
       "      <td>1</td>\n",
       "      <td>3.303456</td>\n",
       "      <td>Female</td>\n",
       "      <td>One parent</td>\n",
       "      <td>38.544339</td>\n",
       "      <td>1.0</td>\n",
       "      <td>1.0</td>\n",
       "      <td>Hispanic or Latino</td>\n",
       "      <td>NaN</td>\n",
       "    </tr>\n",
       "    <tr>\n",
       "      <th>2582</th>\n",
       "      <td>0.0</td>\n",
       "      <td>19</td>\n",
       "      <td>Minneapolis Community &amp; Technical College</td>\n",
       "      <td>0</td>\n",
       "      <td>1</td>\n",
       "      <td>2.100000</td>\n",
       "      <td>Male</td>\n",
       "      <td>Two parents</td>\n",
       "      <td>38.544339</td>\n",
       "      <td>1.0</td>\n",
       "      <td>1.0</td>\n",
       "      <td>Black or African American</td>\n",
       "      <td>NaN</td>\n",
       "    </tr>\n",
       "    <tr>\n",
       "      <th>2589</th>\n",
       "      <td>1.0</td>\n",
       "      <td>19</td>\n",
       "      <td>City College of New York</td>\n",
       "      <td>0</td>\n",
       "      <td>1</td>\n",
       "      <td>3.303456</td>\n",
       "      <td>Male</td>\n",
       "      <td>Other</td>\n",
       "      <td>38.544339</td>\n",
       "      <td>1.0</td>\n",
       "      <td>1.0</td>\n",
       "      <td>Hispanic or Latino</td>\n",
       "      <td>NaN</td>\n",
       "    </tr>\n",
       "  </tbody>\n",
       "</table>\n",
       "</div>"
      ],
      "text/plain": [
       "      FRL  Age                               college_name  retention  \\\n",
       "1113  0.0   21    Texas State Technical College-Fort Bend          0   \n",
       "1666  1.0   24                            Year Up Chicago          0   \n",
       "2177  1.0   20                        American University          1   \n",
       "2330  0.0   18                   City College of New York          0   \n",
       "2450  0.0   18  Minneapolis Community & Technical College          0   \n",
       "2474  0.0   20                      Binghamton University          0   \n",
       "2582  0.0   19  Minneapolis Community & Technical College          0   \n",
       "2589  1.0   19                   City College of New York          0   \n",
       "\n",
       "      in_state       gpa  Gender    household   minority  first_gen  4_year  \\\n",
       "1113         1  3.070000  Female   One parent  38.544339        1.0     1.0   \n",
       "1666         1  2.523000    Male        Other  38.544339        1.0     1.0   \n",
       "2177         0  3.303456    Male  Two parents  38.544339        1.0     1.0   \n",
       "2330         1  3.303456    Male  Two parents  38.544339        1.0     1.0   \n",
       "2450         1  3.270000    Male   One parent  38.544339        1.0     1.0   \n",
       "2474         1  3.303456  Female   One parent  38.544339        1.0     1.0   \n",
       "2582         1  2.100000    Male  Two parents  38.544339        1.0     1.0   \n",
       "2589         1  3.303456    Male        Other  38.544339        1.0     1.0   \n",
       "\n",
       "                           Race  public  \n",
       "1113         Hispanic or Latino     NaN  \n",
       "1666         Hispanic or Latino     NaN  \n",
       "2177                      Asian     NaN  \n",
       "2330         Hispanic or Latino     NaN  \n",
       "2450  Black or African American     NaN  \n",
       "2474         Hispanic or Latino     NaN  \n",
       "2582  Black or African American     NaN  \n",
       "2589         Hispanic or Latino     NaN  "
      ]
     },
     "execution_count": 55,
     "metadata": {},
     "output_type": "execute_result"
    }
   ],
   "source": [
    "# Filter and display the rows with any missing values\n",
    "rows_with_missing_values = df_new[df_new.isna().any(axis=1)]\n",
    "\n",
    "rows_with_missing_values"
   ]
  },
  {
   "cell_type": "code",
   "execution_count": 56,
   "id": "ae6ad1f6",
   "metadata": {},
   "outputs": [
    {
     "name": "stderr",
     "output_type": "stream",
     "text": [
      "/var/folders/q4/5hhtt44n6l36cfs0cvvv4g2m0000gn/T/ipykernel_64735/2077660435.py:13: SettingWithCopyWarning: \n",
      "A value is trying to be set on a copy of a slice from a DataFrame.\n",
      "Try using .loc[row_indexer,col_indexer] = value instead\n",
      "\n",
      "See the caveats in the documentation: https://pandas.pydata.org/pandas-docs/stable/user_guide/indexing.html#returning-a-view-versus-a-copy\n",
      "  df_new['public'] = df_new.apply(\n"
     ]
    }
   ],
   "source": [
    "# Mapping dictionary\n",
    "college_public_mapping = {\n",
    "    'Texas State Technical College-Fort Bend': 1,\n",
    "    'Year Up Chicago': 1,  \n",
    "    'American University': 0,\n",
    "    'City College of New York': 1,\n",
    "    'Minneapolis Community & Technical College': 1,\n",
    "    'Binghamton University': 1\n",
    "}\n",
    "\n",
    "# Impute the 'public' column using the mapping\n",
    "# df_new['public'] = df_new['college_name'].map(college_public_mapping)\n",
    "df_new['public'] = df_new.apply(\n",
    "    lambda row: college_public_mapping[row['college_name']] if pd.isna(row['public']) and row['college_name'] in college_public_mapping else row['public'],\n",
    "    axis=1\n",
    ")"
   ]
  },
  {
   "cell_type": "code",
   "execution_count": 57,
   "id": "2cd80a57",
   "metadata": {},
   "outputs": [
    {
     "data": {
      "text/plain": [
       "False"
      ]
     },
     "execution_count": 57,
     "metadata": {},
     "output_type": "execute_result"
    }
   ],
   "source": [
    "nan_in_df = df_new.isnull().sum().any()\n",
    " \n",
    "nan_in_df"
   ]
  },
  {
   "cell_type": "code",
   "execution_count": 58,
   "id": "bb331b46",
   "metadata": {},
   "outputs": [
    {
     "data": {
      "text/html": [
       "<div>\n",
       "<style scoped>\n",
       "    .dataframe tbody tr th:only-of-type {\n",
       "        vertical-align: middle;\n",
       "    }\n",
       "\n",
       "    .dataframe tbody tr th {\n",
       "        vertical-align: top;\n",
       "    }\n",
       "\n",
       "    .dataframe thead th {\n",
       "        text-align: right;\n",
       "    }\n",
       "</style>\n",
       "<table border=\"1\" class=\"dataframe\">\n",
       "  <thead>\n",
       "    <tr style=\"text-align: right;\">\n",
       "      <th></th>\n",
       "      <th>Variable</th>\n",
       "      <th>VIF</th>\n",
       "    </tr>\n",
       "  </thead>\n",
       "  <tbody>\n",
       "    <tr>\n",
       "      <th>1</th>\n",
       "      <td>FRL</td>\n",
       "      <td>1.080092</td>\n",
       "    </tr>\n",
       "    <tr>\n",
       "      <th>2</th>\n",
       "      <td>Age</td>\n",
       "      <td>1.197256</td>\n",
       "    </tr>\n",
       "    <tr>\n",
       "      <th>3</th>\n",
       "      <td>retention</td>\n",
       "      <td>1.149341</td>\n",
       "    </tr>\n",
       "    <tr>\n",
       "      <th>4</th>\n",
       "      <td>in_state</td>\n",
       "      <td>1.101566</td>\n",
       "    </tr>\n",
       "    <tr>\n",
       "      <th>5</th>\n",
       "      <td>gpa</td>\n",
       "      <td>1.265217</td>\n",
       "    </tr>\n",
       "    <tr>\n",
       "      <th>6</th>\n",
       "      <td>minority</td>\n",
       "      <td>1.488709</td>\n",
       "    </tr>\n",
       "    <tr>\n",
       "      <th>7</th>\n",
       "      <td>first_gen</td>\n",
       "      <td>1.092953</td>\n",
       "    </tr>\n",
       "    <tr>\n",
       "      <th>8</th>\n",
       "      <td>4_year</td>\n",
       "      <td>1.427639</td>\n",
       "    </tr>\n",
       "    <tr>\n",
       "      <th>9</th>\n",
       "      <td>public</td>\n",
       "      <td>1.188646</td>\n",
       "    </tr>\n",
       "  </tbody>\n",
       "</table>\n",
       "</div>"
      ],
      "text/plain": [
       "    Variable       VIF\n",
       "1        FRL  1.080092\n",
       "2        Age  1.197256\n",
       "3  retention  1.149341\n",
       "4   in_state  1.101566\n",
       "5        gpa  1.265217\n",
       "6   minority  1.488709\n",
       "7  first_gen  1.092953\n",
       "8     4_year  1.427639\n",
       "9     public  1.188646"
      ]
     },
     "execution_count": 58,
     "metadata": {},
     "output_type": "execute_result"
    }
   ],
   "source": [
    "# Selecting numerical variables for multicollinearity analysis after transforming categorical variables\n",
    "numerical_vars = df_new.select_dtypes(include=['int64', 'float64']).columns\n",
    "\n",
    "# Adding a constant for the intercept\n",
    "X = add_constant(df_new[numerical_vars])\n",
    "\n",
    "# Calculating VIF for each variable\n",
    "vif_data = pd.DataFrame()\n",
    "vif_data[\"Variable\"] = X.columns\n",
    "vif_data[\"VIF\"] = [variance_inflation_factor(X.values, i) for i in range(0, X.shape[1])]\n",
    "\n",
    "vif_data[1:]"
   ]
  },
  {
   "cell_type": "code",
   "execution_count": 59,
   "id": "d7247c5c",
   "metadata": {},
   "outputs": [
    {
     "data": {
      "image/png": "[encoded data removed]",
      "text/plain": [
       "<Figure size 1296x864 with 9 Axes>"
      ]
     },
     "metadata": {
      "needs_background": "light"
     },
     "output_type": "display_data"
    }
   ],
   "source": [
    "# Plotting distributions for all numerical variables to check for outliers and noise\n",
    "numerical_variables = df_new.select_dtypes(include=['int64', 'float64']).columns\n",
    "\n",
    "# Setting up the plotting area\n",
    "n_rows = len(numerical_variables) // 3 + (len(numerical_variables) % 3 > 0)\n",
    "fig, axes = plt.subplots(n_rows, 3, figsize=(18, n_rows * 4))\n",
    "fig.suptitle('Distribution of Numerical Variables', fontsize=16)\n",
    "\n",
    "for i, var in enumerate(numerical_variables):\n",
    "    row = i // 3\n",
    "    col = i % 3\n",
    "    sns.histplot(df[var], kde=True, ax=axes[row, col], bins=30)\n",
    "    axes[row, col].set_title(var)\n",
    "\n",
    "# Adjust layout to prevent overlap and remove empty subplots\n",
    "plt.tight_layout(rect=[0, 0.03, 1, 0.95])\n",
    "if len(numerical_variables) % 3:\n",
    "    for j in range(3 - len(numerical_variables) % 3):\n",
    "        fig.delaxes(axes.flatten()[-(j + 1)])\n",
    "\n",
    "plt.show()"
   ]
  },
  {
   "cell_type": "code",
   "execution_count": 60,
   "id": "44b21287",
   "metadata": {},
   "outputs": [
    {
     "data": {
      "image/png": "[encoded data removed]",
      "text/plain": [
       "<Figure size 1440x1080 with 2 Axes>"
      ]
     },
     "metadata": {
      "needs_background": "light"
     },
     "output_type": "display_data"
    }
   ],
   "source": [
    "# Calculating the correlation matrix \n",
    "correlation_matrix_dropped = df_new.select_dtypes(include=['int64', 'float64']).corr()\n",
    "\n",
    "# Plotting the correlation matrix using a heatmap\n",
    "plt.figure(figsize=(20, 15))\n",
    "sns.heatmap(correlation_matrix_dropped, annot=True, fmt=\".2f\", cmap='coolwarm')\n",
    "plt.title('Correlation Matrix')\n",
    "plt.show()"
   ]
  },
  {
   "cell_type": "code",
   "execution_count": 61,
   "id": "ee8a99b6",
   "metadata": {},
   "outputs": [
    {
     "name": "stderr",
     "output_type": "stream",
     "text": [
      "/var/folders/q4/5hhtt44n6l36cfs0cvvv4g2m0000gn/T/ipykernel_64735/4291888347.py:9: SettingWithCopyWarning: \n",
      "A value is trying to be set on a copy of a slice from a DataFrame.\n",
      "Try using .loc[row_indexer,col_indexer] = value instead\n",
      "\n",
      "See the caveats in the documentation: https://pandas.pydata.org/pandas-docs/stable/user_guide/indexing.html#returning-a-view-versus-a-copy\n",
      "  df_new[var] = df_new[var].astype('category')\n",
      "/var/folders/q4/5hhtt44n6l36cfs0cvvv4g2m0000gn/T/ipykernel_64735/4291888347.py:9: SettingWithCopyWarning: \n",
      "A value is trying to be set on a copy of a slice from a DataFrame.\n",
      "Try using .loc[row_indexer,col_indexer] = value instead\n",
      "\n",
      "See the caveats in the documentation: https://pandas.pydata.org/pandas-docs/stable/user_guide/indexing.html#returning-a-view-versus-a-copy\n",
      "  df_new[var] = df_new[var].astype('category')\n",
      "/var/folders/q4/5hhtt44n6l36cfs0cvvv4g2m0000gn/T/ipykernel_64735/4291888347.py:9: SettingWithCopyWarning: \n",
      "A value is trying to be set on a copy of a slice from a DataFrame.\n",
      "Try using .loc[row_indexer,col_indexer] = value instead\n",
      "\n",
      "See the caveats in the documentation: https://pandas.pydata.org/pandas-docs/stable/user_guide/indexing.html#returning-a-view-versus-a-copy\n",
      "  df_new[var] = df_new[var].astype('category')\n"
     ]
    }
   ],
   "source": [
    "# Converting the identified potential categorical variables from 1.2.3 to categorical\n",
    "categorical_vars = [\n",
    "    'Gender',\n",
    "    'household',\n",
    "    'Race'\n",
    "]\n",
    "\n",
    "for var in categorical_vars:\n",
    "    df_new[var] = df_new[var].astype('category')"
   ]
  },
  {
   "cell_type": "code",
   "execution_count": 62,
   "id": "f80f5375",
   "metadata": {},
   "outputs": [
    {
     "name": "stdout",
     "output_type": "stream",
     "text": [
      "Counts for Gender:\n",
      "Female    1532\n",
      "Male      1166\n",
      "Name: Gender, dtype: int64\n",
      "\n",
      "Counts for household:\n",
      "Two parents    1707\n",
      "One parent      819\n",
      "Other           172\n",
      "Name: household, dtype: int64\n",
      "\n",
      "Counts for Race:\n",
      "Black or African American    977\n",
      "Hispanic or Latino           863\n",
      "Asian                        624\n",
      "Other                        142\n",
      "White                         92\n",
      "Name: Race, dtype: int64\n",
      "\n"
     ]
    }
   ],
   "source": [
    "for var in categorical_vars:\n",
    "    print(f\"Counts for {var}:\")\n",
    "    print(df[var].value_counts())\n",
    "    print()\n"
   ]
  },
  {
   "cell_type": "code",
   "execution_count": 75,
   "id": "ff9ba725",
   "metadata": {},
   "outputs": [
    {
     "name": "stdout",
     "output_type": "stream",
     "text": [
      "Counts and Percentage for Gender:\n",
      "        Counts  Percentage\n",
      "Female    1532   56.782802\n",
      "Male      1166   43.217198\n",
      "\n",
      "Counts and Percentage for household:\n",
      "             Counts  Percentage\n",
      "Two parents    1707   63.269088\n",
      "One parent      819   30.355819\n",
      "Other           172    6.375093\n",
      "\n",
      "Counts and Percentage for Race:\n",
      "                           Counts  Percentage\n",
      "Black or African American     977   36.212009\n",
      "Hispanic or Latino            863   31.986657\n",
      "Asian                         624   23.128243\n",
      "Other                         142    5.263158\n",
      "White                          92    3.409933\n",
      "\n"
     ]
    }
   ],
   "source": [
    "# Generate counts and percentages\n",
    "for var in categorical_vars:\n",
    "    count = df[var].value_counts()\n",
    "    percent = df[var].value_counts(normalize=True) * 100\n",
    "    table = pd.DataFrame({'Counts': count, 'Percentage': percent})\n",
    "    print(f\"Counts and Percentage for {var}:\")\n",
    "    print(table)\n",
    "    print()\n"
   ]
  },
  {
   "cell_type": "code",
   "execution_count": 64,
   "id": "d603c8c1",
   "metadata": {},
   "outputs": [
    {
     "data": {
      "image/png": "[encoded data removed]",
      "text/plain": [
       "<Figure size 1296x432 with 3 Axes>"
      ]
     },
     "metadata": {
      "needs_background": "light"
     },
     "output_type": "display_data"
    }
   ],
   "source": [
    "fig, axes = plt.subplots(1, 3, figsize=(18, 6))\n",
    "\n",
    "for i, var in enumerate(categorical_vars):\n",
    "    sns.countplot(ax=axes[i], x=df[var])\n",
    "    axes[i].set_title(f'Distribution of {var}')\n",
    "    axes[i].set_xlabel(var)\n",
    "    axes[i].set_ylabel('Count')\n",
    "    for label in axes[i].get_xticklabels():\n",
    "        label.set_rotation(45)\n",
    "\n",
    "plt.tight_layout()\n",
    "plt.show()\n"
   ]
  },
  {
   "cell_type": "code",
   "execution_count": 67,
   "id": "e22f4a7c",
   "metadata": {},
   "outputs": [
    {
     "data": {
      "image/png": "[encoded data removed]",
      "text/plain": [
       "<Figure size 1296x432 with 3 Axes>"
      ]
     },
     "metadata": {
      "needs_background": "light"
     },
     "output_type": "display_data"
    }
   ],
   "source": [
    "fig, axes = plt.subplots(1, 3, figsize=(18, 6))\n",
    "\n",
    "for i, var in enumerate(categorical_vars):\n",
    "    sns.countplot(ax=axes[i], x=df[var], hue=df['retention'])  # Add 'hue' for the target variable\n",
    "    axes[i].set_title(f'Distribution of {var} by Retention')\n",
    "    axes[i].set_xlabel(var)\n",
    "    axes[i].set_ylabel('Count')\n",
    "    for label in axes[i].get_xticklabels():\n",
    "        label.set_rotation(45)\n",
    "\n",
    "plt.tight_layout()\n",
    "plt.show()"
   ]
  },
  {
   "cell_type": "markdown",
   "id": "c4250bda",
   "metadata": {},
   "source": [
    "### One-Hot Encoding"
   ]
  },
  {
   "cell_type": "code",
   "execution_count": 78,
   "id": "d4192865",
   "metadata": {},
   "outputs": [],
   "source": [
    "df_encoded = pd.get_dummies(df_new, columns=['household', 'Race'], drop_first=False)"
   ]
  },
  {
   "cell_type": "code",
   "execution_count": 79,
   "id": "34f32904",
   "metadata": {},
   "outputs": [],
   "source": [
    "df_encoded['female'] = df_new['Gender'].apply(lambda x: 1 if x == 'Female' else 0)\n",
    "df_encoded.drop(columns=['Gender'], inplace=True)\n",
    "df_encoded['female'] = df_encoded['female'].astype(int)"
   ]
  },
  {
   "cell_type": "code",
   "execution_count": 81,
   "id": "5c9c8c19",
   "metadata": {},
   "outputs": [],
   "source": [
    "columns_to_drop = ['household_Other', 'Race_Other']\n",
    "df_encoded = df_encoded.drop(columns=columns_to_drop)"
   ]
  },
  {
   "cell_type": "code",
   "execution_count": 82,
   "id": "9a4a1b5c",
   "metadata": {},
   "outputs": [
    {
     "data": {
      "text/plain": [
       "Index(['FRL', 'Age', 'college_name', 'retention', 'in_state', 'gpa',\n",
       "       'minority', 'first_gen', '4_year', 'public', 'household_One parent',\n",
       "       'household_Two parents', 'Race_Asian', 'Race_Black or African American',\n",
       "       'Race_Hispanic or Latino', 'Race_White', 'female'],\n",
       "      dtype='object')"
      ]
     },
     "execution_count": 82,
     "metadata": {},
     "output_type": "execute_result"
    }
   ],
   "source": [
    "df_encoded.columns"
   ]
  },
  {
   "cell_type": "code",
   "execution_count": 84,
   "id": "9a33ada8",
   "metadata": {},
   "outputs": [
    {
     "name": "stdout",
     "output_type": "stream",
     "text": [
      "Optimization terminated successfully.\n",
      "         Current function value: 0.591519\n",
      "         Iterations 5\n",
      "                           Logit Regression Results                           \n",
      "==============================================================================\n",
      "Dep. Variable:              retention   No. Observations:                 2698\n",
      "Model:                          Logit   Df Residuals:                     2682\n",
      "Method:                           MLE   Df Model:                           15\n",
      "Date:                Fri, 24 May 2024   Pseudo R-squ.:                  0.1106\n",
      "Time:                        20:51:35   Log-Likelihood:                -1595.9\n",
      "converged:                       True   LL-Null:                       -1794.4\n",
      "Covariance Type:            nonrobust   LLR p-value:                 2.895e-75\n",
      "==================================================================================================\n",
      "                                     coef    std err          z      P>|z|      [0.025      0.975]\n",
      "--------------------------------------------------------------------------------------------------\n",
      "const                            -11.8342      0.830    -14.264      0.000     -13.460     -10.208\n",
      "FRL                                0.0867      0.112      0.773      0.440      -0.133       0.307\n",
      "Age                                0.4307      0.027     16.056      0.000       0.378       0.483\n",
      "in_state                           0.1609      0.146      1.103      0.270      -0.125       0.447\n",
      "gpa                                0.5647      0.110      5.135      0.000       0.349       0.780\n",
      "minority                           0.0100      0.003      3.655      0.000       0.005       0.015\n",
      "first_gen                         -0.6835      0.122     -5.614      0.000      -0.922      -0.445\n",
      "4_year                             0.1294      0.116      1.114      0.265      -0.098       0.357\n",
      "public                             0.1955      0.108      1.817      0.069      -0.015       0.406\n",
      "household_One parent               0.5156      0.190      2.710      0.007       0.143       0.888\n",
      "household_Two parents              0.7142      0.184      3.879      0.000       0.353       1.075\n",
      "Race_Asian                         0.3871      0.206      1.877      0.060      -0.017       0.791\n",
      "Race_Black or African American     0.3447      0.197      1.750      0.080      -0.041       0.731\n",
      "Race_Hispanic or Latino            0.4051      0.200      2.029      0.042       0.014       0.796\n",
      "Race_White                        -0.1218      0.297     -0.410      0.682      -0.704       0.461\n",
      "female                             0.1411      0.089      1.589      0.112      -0.033       0.315\n",
      "==================================================================================================\n"
     ]
    }
   ],
   "source": [
    "import pandas as pd\n",
    "import statsmodels.api as sm\n",
    "\n",
    "# Define X and y\n",
    "X = df_encoded.drop(columns=df_encoded[['retention', 'college_name']])\n",
    "y = df_encoded['retention']\n",
    "\n",
    "# Add a constant to the model (the intercept)\n",
    "X = sm.add_constant(X)\n",
    "\n",
    "# Initialize and fit the logistic regression model\n",
    "model = sm.Logit(y, X)\n",
    "result = model.fit()\n",
    "\n",
    "# Print the summary of the regression results\n",
    "print(result.summary())\n"
   ]
  },
  {
   "cell_type": "code",
   "execution_count": 91,
   "id": "a01c8b6f",
   "metadata": {},
   "outputs": [
    {
     "data": {
      "text/html": [
       "<div>\n",
       "<style scoped>\n",
       "    .dataframe tbody tr th:only-of-type {\n",
       "        vertical-align: middle;\n",
       "    }\n",
       "\n",
       "    .dataframe tbody tr th {\n",
       "        vertical-align: top;\n",
       "    }\n",
       "\n",
       "    .dataframe thead th {\n",
       "        text-align: right;\n",
       "    }\n",
       "</style>\n",
       "<table border=\"1\" class=\"dataframe\">\n",
       "  <thead>\n",
       "    <tr style=\"text-align: right;\">\n",
       "      <th></th>\n",
       "      <th>FRL</th>\n",
       "      <th>Age</th>\n",
       "      <th>college_name</th>\n",
       "      <th>retention</th>\n",
       "      <th>in_state</th>\n",
       "      <th>gpa</th>\n",
       "      <th>minority</th>\n",
       "      <th>first_gen</th>\n",
       "      <th>4_year</th>\n",
       "      <th>public</th>\n",
       "      <th>household_One parent</th>\n",
       "      <th>household_Two parents</th>\n",
       "      <th>Race_Asian</th>\n",
       "      <th>Race_Black or African American</th>\n",
       "      <th>Race_Hispanic or Latino</th>\n",
       "      <th>Race_White</th>\n",
       "      <th>female</th>\n",
       "    </tr>\n",
       "  </thead>\n",
       "  <tbody>\n",
       "    <tr>\n",
       "      <th>0</th>\n",
       "      <td>1.0</td>\n",
       "      <td>23</td>\n",
       "      <td>North Hennepin Community College</td>\n",
       "      <td>1</td>\n",
       "      <td>1</td>\n",
       "      <td>-0.409635</td>\n",
       "      <td>-1.157908</td>\n",
       "      <td>1.0</td>\n",
       "      <td>0.0</td>\n",
       "      <td>1.0</td>\n",
       "      <td>0</td>\n",
       "      <td>1</td>\n",
       "      <td>0</td>\n",
       "      <td>1</td>\n",
       "      <td>0</td>\n",
       "      <td>0</td>\n",
       "      <td>1</td>\n",
       "    </tr>\n",
       "    <tr>\n",
       "      <th>1</th>\n",
       "      <td>1.0</td>\n",
       "      <td>22</td>\n",
       "      <td>Augsburg University</td>\n",
       "      <td>1</td>\n",
       "      <td>1</td>\n",
       "      <td>0.059594</td>\n",
       "      <td>-0.424811</td>\n",
       "      <td>0.0</td>\n",
       "      <td>1.0</td>\n",
       "      <td>0.0</td>\n",
       "      <td>0</td>\n",
       "      <td>1</td>\n",
       "      <td>0</td>\n",
       "      <td>1</td>\n",
       "      <td>0</td>\n",
       "      <td>0</td>\n",
       "      <td>1</td>\n",
       "    </tr>\n",
       "    <tr>\n",
       "      <th>2</th>\n",
       "      <td>0.0</td>\n",
       "      <td>22</td>\n",
       "      <td>University of California-Los Angeles</td>\n",
       "      <td>1</td>\n",
       "      <td>0</td>\n",
       "      <td>0.441264</td>\n",
       "      <td>2.112910</td>\n",
       "      <td>1.0</td>\n",
       "      <td>1.0</td>\n",
       "      <td>1.0</td>\n",
       "      <td>0</td>\n",
       "      <td>1</td>\n",
       "      <td>0</td>\n",
       "      <td>1</td>\n",
       "      <td>0</td>\n",
       "      <td>0</td>\n",
       "      <td>1</td>\n",
       "    </tr>\n",
       "    <tr>\n",
       "      <th>3</th>\n",
       "      <td>1.0</td>\n",
       "      <td>22</td>\n",
       "      <td>Old Dominion University</td>\n",
       "      <td>1</td>\n",
       "      <td>1</td>\n",
       "      <td>-0.124505</td>\n",
       "      <td>0.195819</td>\n",
       "      <td>1.0</td>\n",
       "      <td>1.0</td>\n",
       "      <td>1.0</td>\n",
       "      <td>0</td>\n",
       "      <td>1</td>\n",
       "      <td>0</td>\n",
       "      <td>1</td>\n",
       "      <td>0</td>\n",
       "      <td>0</td>\n",
       "      <td>0</td>\n",
       "    </tr>\n",
       "    <tr>\n",
       "      <th>4</th>\n",
       "      <td>1.0</td>\n",
       "      <td>23</td>\n",
       "      <td>Minneapolis Community and Technical College</td>\n",
       "      <td>1</td>\n",
       "      <td>1</td>\n",
       "      <td>-2.903962</td>\n",
       "      <td>-1.606226</td>\n",
       "      <td>1.0</td>\n",
       "      <td>0.0</td>\n",
       "      <td>1.0</td>\n",
       "      <td>0</td>\n",
       "      <td>1</td>\n",
       "      <td>0</td>\n",
       "      <td>1</td>\n",
       "      <td>0</td>\n",
       "      <td>0</td>\n",
       "      <td>0</td>\n",
       "    </tr>\n",
       "    <tr>\n",
       "      <th>...</th>\n",
       "      <td>...</td>\n",
       "      <td>...</td>\n",
       "      <td>...</td>\n",
       "      <td>...</td>\n",
       "      <td>...</td>\n",
       "      <td>...</td>\n",
       "      <td>...</td>\n",
       "      <td>...</td>\n",
       "      <td>...</td>\n",
       "      <td>...</td>\n",
       "      <td>...</td>\n",
       "      <td>...</td>\n",
       "      <td>...</td>\n",
       "      <td>...</td>\n",
       "      <td>...</td>\n",
       "      <td>...</td>\n",
       "      <td>...</td>\n",
       "    </tr>\n",
       "    <tr>\n",
       "      <th>2693</th>\n",
       "      <td>1.0</td>\n",
       "      <td>19</td>\n",
       "      <td>Illinois Institute of Technology</td>\n",
       "      <td>0</td>\n",
       "      <td>1</td>\n",
       "      <td>0.890288</td>\n",
       "      <td>0.778788</td>\n",
       "      <td>1.0</td>\n",
       "      <td>1.0</td>\n",
       "      <td>0.0</td>\n",
       "      <td>1</td>\n",
       "      <td>0</td>\n",
       "      <td>0</td>\n",
       "      <td>1</td>\n",
       "      <td>0</td>\n",
       "      <td>0</td>\n",
       "      <td>1</td>\n",
       "    </tr>\n",
       "    <tr>\n",
       "      <th>2694</th>\n",
       "      <td>1.0</td>\n",
       "      <td>19</td>\n",
       "      <td>Columbia College-Chicago</td>\n",
       "      <td>0</td>\n",
       "      <td>1</td>\n",
       "      <td>-2.028366</td>\n",
       "      <td>-0.855589</td>\n",
       "      <td>1.0</td>\n",
       "      <td>1.0</td>\n",
       "      <td>0.0</td>\n",
       "      <td>1</td>\n",
       "      <td>0</td>\n",
       "      <td>0</td>\n",
       "      <td>1</td>\n",
       "      <td>0</td>\n",
       "      <td>0</td>\n",
       "      <td>0</td>\n",
       "    </tr>\n",
       "    <tr>\n",
       "      <th>2695</th>\n",
       "      <td>1.0</td>\n",
       "      <td>19</td>\n",
       "      <td>Loyola University Chicago</td>\n",
       "      <td>0</td>\n",
       "      <td>1</td>\n",
       "      <td>-0.905806</td>\n",
       "      <td>1.452556</td>\n",
       "      <td>1.0</td>\n",
       "      <td>1.0</td>\n",
       "      <td>0.0</td>\n",
       "      <td>1</td>\n",
       "      <td>0</td>\n",
       "      <td>0</td>\n",
       "      <td>0</td>\n",
       "      <td>0</td>\n",
       "      <td>0</td>\n",
       "      <td>1</td>\n",
       "    </tr>\n",
       "    <tr>\n",
       "      <th>2696</th>\n",
       "      <td>0.0</td>\n",
       "      <td>18</td>\n",
       "      <td>University of Illinois at Urbana-Champaign</td>\n",
       "      <td>0</td>\n",
       "      <td>1</td>\n",
       "      <td>1.227056</td>\n",
       "      <td>1.439142</td>\n",
       "      <td>1.0</td>\n",
       "      <td>1.0</td>\n",
       "      <td>1.0</td>\n",
       "      <td>0</td>\n",
       "      <td>1</td>\n",
       "      <td>0</td>\n",
       "      <td>0</td>\n",
       "      <td>1</td>\n",
       "      <td>0</td>\n",
       "      <td>1</td>\n",
       "    </tr>\n",
       "    <tr>\n",
       "      <th>2697</th>\n",
       "      <td>1.0</td>\n",
       "      <td>19</td>\n",
       "      <td>University of Illinois at Chicago</td>\n",
       "      <td>0</td>\n",
       "      <td>1</td>\n",
       "      <td>1.496470</td>\n",
       "      <td>0.064780</td>\n",
       "      <td>1.0</td>\n",
       "      <td>1.0</td>\n",
       "      <td>1.0</td>\n",
       "      <td>0</td>\n",
       "      <td>1</td>\n",
       "      <td>0</td>\n",
       "      <td>0</td>\n",
       "      <td>1</td>\n",
       "      <td>0</td>\n",
       "      <td>1</td>\n",
       "    </tr>\n",
       "  </tbody>\n",
       "</table>\n",
       "<p>2698 rows × 17 columns</p>\n",
       "</div>"
      ],
      "text/plain": [
       "      FRL  Age                                 college_name  retention  \\\n",
       "0     1.0   23             North Hennepin Community College          1   \n",
       "1     1.0   22                          Augsburg University          1   \n",
       "2     0.0   22         University of California-Los Angeles          1   \n",
       "3     1.0   22                      Old Dominion University          1   \n",
       "4     1.0   23  Minneapolis Community and Technical College          1   \n",
       "...   ...  ...                                          ...        ...   \n",
       "2693  1.0   19             Illinois Institute of Technology          0   \n",
       "2694  1.0   19                     Columbia College-Chicago          0   \n",
       "2695  1.0   19                    Loyola University Chicago          0   \n",
       "2696  0.0   18   University of Illinois at Urbana-Champaign          0   \n",
       "2697  1.0   19            University of Illinois at Chicago          0   \n",
       "\n",
       "      in_state       gpa  minority  first_gen  4_year  public  \\\n",
       "0            1 -0.409635 -1.157908        1.0     0.0     1.0   \n",
       "1            1  0.059594 -0.424811        0.0     1.0     0.0   \n",
       "2            0  0.441264  2.112910        1.0     1.0     1.0   \n",
       "3            1 -0.124505  0.195819        1.0     1.0     1.0   \n",
       "4            1 -2.903962 -1.606226        1.0     0.0     1.0   \n",
       "...        ...       ...       ...        ...     ...     ...   \n",
       "2693         1  0.890288  0.778788        1.0     1.0     0.0   \n",
       "2694         1 -2.028366 -0.855589        1.0     1.0     0.0   \n",
       "2695         1 -0.905806  1.452556        1.0     1.0     0.0   \n",
       "2696         1  1.227056  1.439142        1.0     1.0     1.0   \n",
       "2697         1  1.496470  0.064780        1.0     1.0     1.0   \n",
       "\n",
       "      household_One parent  household_Two parents  Race_Asian  \\\n",
       "0                        0                      1           0   \n",
       "1                        0                      1           0   \n",
       "2                        0                      1           0   \n",
       "3                        0                      1           0   \n",
       "4                        0                      1           0   \n",
       "...                    ...                    ...         ...   \n",
       "2693                     1                      0           0   \n",
       "2694                     1                      0           0   \n",
       "2695                     1                      0           0   \n",
       "2696                     0                      1           0   \n",
       "2697                     0                      1           0   \n",
       "\n",
       "      Race_Black or African American  Race_Hispanic or Latino  Race_White  \\\n",
       "0                                  1                        0           0   \n",
       "1                                  1                        0           0   \n",
       "2                                  1                        0           0   \n",
       "3                                  1                        0           0   \n",
       "4                                  1                        0           0   \n",
       "...                              ...                      ...         ...   \n",
       "2693                               1                        0           0   \n",
       "2694                               1                        0           0   \n",
       "2695                               0                        0           0   \n",
       "2696                               0                        1           0   \n",
       "2697                               0                        1           0   \n",
       "\n",
       "      female  \n",
       "0          1  \n",
       "1          1  \n",
       "2          1  \n",
       "3          0  \n",
       "4          0  \n",
       "...      ...  \n",
       "2693       1  \n",
       "2694       0  \n",
       "2695       1  \n",
       "2696       1  \n",
       "2697       1  \n",
       "\n",
       "[2698 rows x 17 columns]"
      ]
     },
     "execution_count": 91,
     "metadata": {},
     "output_type": "execute_result"
    }
   ],
   "source": [
    "from sklearn.preprocessing import StandardScaler\n",
    "\n",
    "# Define the continuous variables\n",
    "continuous_vars = ['gpa', 'minority']\n",
    "\n",
    "# Scale the continuous variables\n",
    "scaler = StandardScaler()\n",
    "scaled_continuous_vars = scaler.fit_transform(df_encoded[continuous_vars])\n",
    "\n",
    "# Create a DataFrame with the scaled continuous variables\n",
    "df_scaled = df_encoded.copy()\n",
    "df_scaled[continuous_vars] = scaled_continuous_vars\n",
    "\n",
    "# Display the resulting DataFrame\n",
    "df_scaled\n"
   ]
  },
  {
   "cell_type": "markdown",
   "id": "eb0224cb",
   "metadata": {},
   "source": [
    "## modeling"
   ]
  },
  {
   "cell_type": "markdown",
   "id": "7462c584",
   "metadata": {},
   "source": [
    "### logistic regression"
   ]
  },
  {
   "cell_type": "code",
   "execution_count": 92,
   "id": "0a934a5c",
   "metadata": {},
   "outputs": [],
   "source": [
    "df_scaled['dropout'] = df_scaled['retention'].replace({1: 0, 0: 1})\n",
    "df_scaled = df_scaled.drop(columns = 'retention')"
   ]
  },
  {
   "cell_type": "code",
   "execution_count": 93,
   "id": "0aa0298c",
   "metadata": {},
   "outputs": [
    {
     "data": {
      "text/plain": [
       "0    1667\n",
       "1    1031\n",
       "Name: dropout, dtype: int64"
      ]
     },
     "execution_count": 93,
     "metadata": {},
     "output_type": "execute_result"
    }
   ],
   "source": [
    "df_scaled['dropout'].value_counts()"
   ]
  },
  {
   "cell_type": "code",
   "execution_count": 183,
   "id": "9f616fb2",
   "metadata": {},
   "outputs": [
    {
     "data": {
      "text/plain": [
       "0    1667\n",
       "1    1031\n",
       "Name: dropout, dtype: int64"
      ]
     },
     "execution_count": 183,
     "metadata": {},
     "output_type": "execute_result"
    }
   ],
   "source": [
    "df_scaled['dropout'].value_counts()"
   ]
  },
  {
   "cell_type": "code",
   "execution_count": 166,
   "id": "1ada850d",
   "metadata": {},
   "outputs": [
    {
     "name": "stderr",
     "output_type": "stream",
     "text": [
      "<frozen importlib._bootstrap>:228: RuntimeWarning: scipy._lib.messagestream.MessageStream size changed, may indicate binary incompatibility. Expected 56 from C header, got 64 from PyObject\n"
     ]
    },
    {
     "name": "stdout",
     "output_type": "stream",
     "text": [
      "Test Set F1 Score: 0.5251\n",
      "Test Set Precision Score: 0.6211\n",
      "Test Set Recall Score: 0.4548\n",
      "Test Set Confusion Matrix:\n",
      "[[414  86]\n",
      " [169 141]]\n",
      "Test Set AUC-ROC Score: 0.7058\n",
      "\n",
      "Classification Report:\n",
      "               precision    recall  f1-score   support\n",
      "\n",
      "           0       0.71      0.83      0.76       500\n",
      "           1       0.62      0.45      0.53       310\n",
      "\n",
      "    accuracy                           0.69       810\n",
      "   macro avg       0.67      0.64      0.64       810\n",
      "weighted avg       0.68      0.69      0.67       810\n",
      "\n"
     ]
    }
   ],
   "source": [
    "from sklearn.linear_model import LogisticRegression\n",
    "from sklearn.model_selection import train_test_split, RandomizedSearchCV\n",
    "from sklearn.metrics import accuracy_score, recall_score,f1_score\n",
    "from sklearn.metrics import f1_score, precision_score, recall_score, confusion_matrix, roc_auc_score, classification_report\n",
    "\n",
    "# Splitting the dataset into training and testing sets\n",
    "X = df_scaled.drop(columns=df_scaled[['dropout', 'college_name']])\n",
    "y = df_scaled['dropout']\n",
    "\n",
    "# Initialize the naive model\n",
    "naive_logistic_model = LogisticRegression(max_iter=100000, n_jobs=-1) \n",
    "X_train, X_test, y_train, y_test = train_test_split(X, y, test_size=0.3, random_state=66, stratify= y)\n",
    "\n",
    "# Train the model\n",
    "naive_logistic_model.fit(X_train, y_train)\n",
    "\n",
    "# Predictions on training set for f-1 calculation\n",
    "y_train_pred = naive_logistic_model.predict(X_train)\n",
    "\n",
    "# Get the prediction\n",
    "y_test_pred = naive_logistic_model.predict(X_test)\n",
    "y_prob_lr = naive_logistic_model.predict_proba(X_test)[:, 1]\n",
    "\n",
    "# Calculate f-1 score for both training and testing sets #TP/TP+FN\n",
    "f1_train = f1_score(y_train, y_train_pred)\n",
    "f1_test = f1_score(y_test, y_test_pred)\n",
    "\n",
    "# Calculating the evaluation metrics\n",
    "test_f1_lr = f1_score(y_test, y_test_pred)\n",
    "test_precision_lr = precision_score(y_test, y_test_pred)\n",
    "test_recall_lr = recall_score(y_test, y_test_pred)\n",
    "test_confusion_matrix_lr = confusion_matrix(y_test, y_test_pred)\n",
    "test_auc_roc_lr = roc_auc_score(y_test, y_prob_lr)\n",
    "\n",
    "# Printing the results\n",
    "print(f\"Test Set F1 Score: {test_f1_lr:.4f}\")\n",
    "print(f\"Test Set Precision Score: {test_precision_lr:.4f}\")\n",
    "print(f\"Test Set Recall Score: {test_recall_lr:.4f}\")\n",
    "print(f\"Test Set Confusion Matrix:\\n{test_confusion_matrix_lr}\")\n",
    "print(f\"Test Set AUC-ROC Score: {test_auc_roc_lr:.4f}\")\n",
    "# Printing the classification report\n",
    "print(\"\\nClassification Report:\\n\", classification_report(y_test, y_test_pred))"
   ]
  },
  {
   "cell_type": "code",
   "execution_count": 167,
   "id": "8c001a67",
   "metadata": {},
   "outputs": [
    {
     "name": "stdout",
     "output_type": "stream",
     "text": [
      "                           Feature  Coefficient  Absolute Value\n",
      "10                      Race_Asian    -0.610431        0.610431\n",
      "5                        first_gen     0.595136        0.595136\n",
      "12         Race_Hispanic or Latino    -0.520478        0.520478\n",
      "9            household_Two parents    -0.459551        0.459551\n",
      "11  Race_Black or African American    -0.453352        0.453352\n",
      "1                              Age    -0.425789        0.425789\n",
      "3                              gpa    -0.290281        0.290281\n",
      "14                          female    -0.199638        0.199638\n",
      "4                         minority    -0.168409        0.168409\n",
      "8             household_One parent    -0.168386        0.168386\n",
      "7                           public    -0.125722        0.125722\n",
      "13                      Race_White    -0.121710        0.121710\n",
      "6                           4_year    -0.089589        0.089589\n",
      "2                         in_state     0.026313        0.026313\n",
      "0                              FRL     0.010340        0.010340\n"
     ]
    }
   ],
   "source": [
    "# Get the coefficients from the logistic regression model\n",
    "coefficients = naive_logistic_model.coef_[0]\n",
    "\n",
    "# Create a DataFrame with the feature names and coefficients\n",
    "feature_importance = pd.DataFrame(data={\n",
    "    'Feature': X.columns,\n",
    "    'Coefficient': coefficients\n",
    "})\n",
    "\n",
    "# Calculate the absolute value of the coefficients\n",
    "feature_importance['Absolute Value'] = feature_importance['Coefficient'].abs()\n",
    "\n",
    "# Sort the features by the absolute value of their coefficient in descending order\n",
    "feature_importance = feature_importance.sort_values(by='Absolute Value', ascending=False)\n",
    "\n",
    "# Display the top features\n",
    "print(feature_importance)\n"
   ]
  },
  {
   "cell_type": "code",
   "execution_count": 178,
   "id": "ddefadcb",
   "metadata": {},
   "outputs": [
    {
     "name": "stdout",
     "output_type": "stream",
     "text": [
      "Fitting 5 folds for each of 100 candidates, totalling 500 fits\n",
      "Best Parameters: {'solver': 'saga', 'max_iter': 10000, 'class_weight': 'balanced', 'C': 0.08858667904100823}\n",
      "Test Set F1 Score: 0.5583\n",
      "Test Set Precision Score: 0.5150\n",
      "Test Set Recall Score: 0.6097\n",
      "Test Set Confusion Matrix:\n",
      "[[322 178]\n",
      " [121 189]]\n",
      "Test Set AUC-ROC Score: 0.7033\n",
      "\n",
      "Classification Report:\n",
      "               precision    recall  f1-score   support\n",
      "\n",
      "           0       0.73      0.64      0.68       500\n",
      "           1       0.51      0.61      0.56       310\n",
      "\n",
      "    accuracy                           0.63       810\n",
      "   macro avg       0.62      0.63      0.62       810\n",
      "weighted avg       0.65      0.63      0.64       810\n",
      "\n"
     ]
    }
   ],
   "source": [
    "import numpy as np\n",
    "from sklearn.linear_model import LogisticRegression\n",
    "from sklearn.model_selection import train_test_split, RandomizedSearchCV\n",
    "from sklearn.metrics import precision_score, recall_score, f1_score, confusion_matrix, roc_auc_score, classification_report\n",
    "from sklearn.preprocessing import StandardScaler\n",
    "from imblearn.over_sampling import SMOTE\n",
    "\n",
    "# Define the parameter grid for RandomizedSearchCV\n",
    "param_dist = {\n",
    "    'C': np.logspace(-4, 4, 20),\n",
    "    'class_weight': ['balanced', None],\n",
    "    'solver': ['liblinear', 'saga'],\n",
    "    'max_iter': [100, 1000, 10000, 100000]\n",
    "}\n",
    "\n",
    "# Initialize the Logistic Regression model\n",
    "logistic_model = LogisticRegression(n_jobs=-1)\n",
    "\n",
    "# Initialize RandomizedSearchCV with AUC-ROC as the scoring metric\n",
    "random_search = RandomizedSearchCV(logistic_model, param_distributions=param_dist, n_iter=100, \n",
    "                                   scoring='roc_auc', cv=5, random_state=66, verbose=1)\n",
    "\n",
    "# Fit RandomizedSearchCV\n",
    "random_search.fit(X_train, y_train)\n",
    "\n",
    "# Get the best model\n",
    "best_logistic_model = random_search.best_estimator_\n",
    "\n",
    "# Predictions on the test set\n",
    "y_test_pred = best_logistic_model.predict(X_test)\n",
    "y_prob_lr = best_logistic_model.predict_proba(X_test)[:, 1]\n",
    "\n",
    "# Calculate the evaluation metrics\n",
    "test_f1_lr = f1_score(y_test, y_test_pred)\n",
    "test_precision_lr = precision_score(y_test, y_test_pred)\n",
    "test_recall_lr = recall_score(y_test, y_test_pred)\n",
    "test_confusion_matrix_lr = confusion_matrix(y_test, y_test_pred)\n",
    "test_auc_roc_lr = roc_auc_score(y_test, y_prob_lr)\n",
    "\n",
    "# Printing the results\n",
    "print(f\"Best Parameters: {random_search.best_params_}\")\n",
    "print(f\"Test Set F1 Score: {test_f1_lr:.4f}\")\n",
    "print(f\"Test Set Precision Score: {test_precision_lr:.4f}\")\n",
    "print(f\"Test Set Recall Score: {test_recall_lr:.4f}\")\n",
    "print(f\"Test Set Confusion Matrix:\\n{test_confusion_matrix_lr}\")\n",
    "print(f\"Test Set AUC-ROC Score: {test_auc_roc_lr:.4f}\")\n",
    "# Printing the classification report\n",
    "print(\"\\nClassification Report:\\n\", classification_report(y_test, y_test_pred))\n"
   ]
  },
  {
   "cell_type": "code",
   "execution_count": 180,
   "id": "5a6c001c",
   "metadata": {},
   "outputs": [
    {
     "name": "stdout",
     "output_type": "stream",
     "text": [
      "                           Feature  Coefficient  Absolute Value\n",
      "5                        first_gen     0.476347        0.476347\n",
      "1                              Age    -0.394544        0.394544\n",
      "10                      Race_Asian    -0.330968        0.330968\n",
      "9            household_Two parents    -0.310749        0.310749\n",
      "3                              gpa    -0.290508        0.290508\n",
      "12         Race_Hispanic or Latino    -0.253126        0.253126\n",
      "11  Race_Black or African American    -0.188036        0.188036\n",
      "14                          female    -0.178590        0.178590\n",
      "4                         minority    -0.163895        0.163895\n",
      "7                           public    -0.124412        0.124412\n",
      "13                      Race_White     0.077011        0.077011\n",
      "6                           4_year    -0.073336        0.073336\n",
      "0                              FRL     0.036107        0.036107\n",
      "8             household_One parent    -0.034435        0.034435\n",
      "2                         in_state     0.021715        0.021715\n"
     ]
    }
   ],
   "source": [
    "# Get the coefficients from the logistic regression model\n",
    "coefficients = best_logistic_model.coef_[0]\n",
    "\n",
    "# Create a DataFrame with the feature names and coefficients\n",
    "feature_importance = pd.DataFrame(data={\n",
    "    'Feature': X.columns,\n",
    "    'Coefficient': coefficients\n",
    "})\n",
    "\n",
    "# Calculate the absolute value of the coefficients\n",
    "feature_importance['Absolute Value'] = feature_importance['Coefficient'].abs()\n",
    "\n",
    "# Sort the features by the absolute value of their coefficient in descending order\n",
    "feature_importance = feature_importance.sort_values(by='Absolute Value', ascending=False)\n",
    "\n",
    "# Display the top features\n",
    "print(feature_importance)\n"
   ]
  },
  {
   "cell_type": "code",
   "execution_count": 182,
   "id": "fa32469b",
   "metadata": {},
   "outputs": [
    {
     "data": {
      "image/png": "[encoded data removed]",
      "text/plain": [
       "<Figure size 720x576 with 1 Axes>"
      ]
     },
     "metadata": {
      "needs_background": "light"
     },
     "output_type": "display_data"
    }
   ],
   "source": [
    "import matplotlib.pyplot as plt\n",
    "\n",
    "plt.figure(figsize=(10, 8))\n",
    "plt.barh(feature_importance['Feature'], feature_importance['Absolute Value'])\n",
    "plt.xlabel('Importance')\n",
    "plt.ylabel('Feature')\n",
    "plt.title('Retention: Feature Importance in Logistic Regression')\n",
    "plt.gca().invert_yaxis()  # Invert y-axis to show the most important feature on top\n",
    "plt.show()\n"
   ]
  },
  {
   "cell_type": "markdown",
   "id": "70fd240c",
   "metadata": {},
   "source": [
    "### svm"
   ]
  },
  {
   "cell_type": "code",
   "execution_count": 136,
   "id": "7cd859ee",
   "metadata": {},
   "outputs": [
    {
     "name": "stdout",
     "output_type": "stream",
     "text": [
      "SVM Regularization:\n",
      "F1 Score: 0.5249\n",
      "Precision Score: 0.6462\n",
      "Recall Score: 0.4419\n",
      "AUC-ROC Score: 0.7084\n",
      "Confusion Matrix:\n",
      "[[425  75]\n",
      " [173 137]]\n",
      "              precision    recall  f1-score   support\n",
      "\n",
      "           0       0.71      0.85      0.77       500\n",
      "           1       0.65      0.44      0.52       310\n",
      "\n",
      "    accuracy                           0.69       810\n",
      "   macro avg       0.68      0.65      0.65       810\n",
      "weighted avg       0.69      0.69      0.68       810\n",
      "\n"
     ]
    }
   ],
   "source": [
    "from sklearn.svm import SVC\n",
    "from sklearn.metrics import f1_score, precision_score, recall_score, roc_auc_score, confusion_matrix, classification_report\n",
    "from sklearn.calibration import CalibratedClassifierCV\n",
    "\n",
    "# Initialize the SVM model with linear kernel for similarity to L1\n",
    "svm_model = SVC(kernel='linear', probability=True, random_state=66)\n",
    "\n",
    "# Calibrated Classifier to enable probability prediction\n",
    "calibrated_svm = CalibratedClassifierCV(svm_model)\n",
    "\n",
    "# Train the model\n",
    "calibrated_svm.fit(X_train, y_train)\n",
    "\n",
    "# Predictions and probabilities\n",
    "y_test_pred_svm = calibrated_svm.predict(X_test)\n",
    "y_prob_svm = calibrated_svm.predict_proba(X_test)[:, 1]\n",
    "\n",
    "# Evaluation Metrics\n",
    "print(\"SVM Regularization:\")\n",
    "print(f\"F1 Score: {f1_score(y_test, y_test_pred_svm):.4f}\")\n",
    "print(f\"Precision Score: {precision_score(y_test, y_test_pred_svm):.4f}\")\n",
    "print(f\"Recall Score: {recall_score(y_test, y_test_pred_svm):.4f}\")\n",
    "print(f\"AUC-ROC Score: {roc_auc_score(y_test, y_prob_svm):.4f}\")\n",
    "print(f\"Confusion Matrix:\\n{confusion_matrix(y_test, y_test_pred_svm)}\")\n",
    "print(classification_report(y_test, y_test_pred_svm))\n"
   ]
  },
  {
   "cell_type": "code",
   "execution_count": 137,
   "id": "8a829c9a",
   "metadata": {},
   "outputs": [
    {
     "name": "stdout",
     "output_type": "stream",
     "text": [
      "Fitting 5 folds for each of 50 candidates, totalling 250 fits\n",
      "SVM Regularization with Hyperparameter Tuning:\n",
      "Best Parameters: {'kernel': 'rbf', 'C': 3792.690190732246}\n",
      "F1 Score: 0.5585\n",
      "AUC-ROC Score: 0.7141\n",
      "Confusion Matrix:\n",
      "[[459  41]\n",
      " [174 136]]\n",
      "              precision    recall  f1-score   support\n",
      "\n",
      "           0       0.73      0.92      0.81       500\n",
      "           1       0.77      0.44      0.56       310\n",
      "\n",
      "    accuracy                           0.73       810\n",
      "   macro avg       0.75      0.68      0.68       810\n",
      "weighted avg       0.74      0.73      0.71       810\n",
      "\n"
     ]
    }
   ],
   "source": [
    "from sklearn.svm import SVC\n",
    "from sklearn.model_selection import RandomizedSearchCV\n",
    "from sklearn.metrics import f1_score, roc_auc_score, confusion_matrix, classification_report\n",
    "import numpy as np\n",
    "\n",
    "# Parameter distribution for RandomizedSearchCV\n",
    "param_dist_svm = {\n",
    "    'C': np.logspace(-4, 4, 20),  # Regularization strength (inverse)\n",
    "    'kernel': ['linear', 'rbf', 'poly', 'sigmoid']  # Kernels to consider\n",
    "}\n",
    "\n",
    "# SVM model\n",
    "svm_model = SVC(probability=True, random_state=66)  # Enable probability for ROC AUC\n",
    "\n",
    "# Randomized Search with cross-validation\n",
    "random_search_svm = RandomizedSearchCV(\n",
    "    svm_model, \n",
    "    param_distributions=param_dist_svm, \n",
    "    n_iter=50, \n",
    "    scoring='roc_auc', \n",
    "    cv=5, \n",
    "    verbose=1, \n",
    "    random_state=66, \n",
    "    n_jobs=-1\n",
    ")\n",
    "\n",
    "# Fitting RandomizedSearchCV\n",
    "random_search_svm.fit(X_train, y_train)\n",
    "\n",
    "# Best model and predictions\n",
    "best_svm = random_search_svm.best_estimator_\n",
    "y_test_pred_svm = best_svm.predict(X_test)\n",
    "y_prob_svm = best_svm.predict_proba(X_test)[:, 1]\n",
    "\n",
    "# Evaluation Metrics\n",
    "print(\"SVM Regularization with Hyperparameter Tuning:\")\n",
    "print(f\"Best Parameters: {random_search_svm.best_params_}\")\n",
    "print(f\"F1 Score: {f1_score(y_test, y_test_pred_svm):.4f}\")\n",
    "print(f\"AUC-ROC Score: {roc_auc_score(y_test, y_prob_svm):.4f}\")\n",
    "print(f\"Confusion Matrix:\\n{confusion_matrix(y_test, y_test_pred_svm)}\")\n",
    "print(classification_report(y_test, y_test_pred_svm))\n"
   ]
  },
  {
   "cell_type": "markdown",
   "id": "abf23b6c",
   "metadata": {},
   "source": [
    "## XGBoost"
   ]
  },
  {
   "cell_type": "code",
   "execution_count": 138,
   "id": "820f1c99",
   "metadata": {},
   "outputs": [
    {
     "name": "stdout",
     "output_type": "stream",
     "text": [
      "Test Set F1 Score: 0.5492\n",
      "Test Set Precision Score: 0.5786\n",
      "Test Set Recall Score: 0.5226\n",
      "Test Set Confusion Matrix:\n",
      "[[382 118]\n",
      " [148 162]]\n",
      "Test Set AUC-ROC Score: 0.7038\n",
      "\n",
      "Classification Report:\n",
      "               precision    recall  f1-score   support\n",
      "\n",
      "           0       0.72      0.76      0.74       500\n",
      "           1       0.58      0.52      0.55       310\n",
      "\n",
      "    accuracy                           0.67       810\n",
      "   macro avg       0.65      0.64      0.65       810\n",
      "weighted avg       0.67      0.67      0.67       810\n",
      "\n"
     ]
    }
   ],
   "source": [
    "import numpy as np\n",
    "from xgboost import XGBClassifier\n",
    "from sklearn.model_selection import train_test_split\n",
    "from sklearn.metrics import precision_score, recall_score, f1_score, confusion_matrix, roc_auc_score, classification_report\n",
    "\n",
    "# Splitting the dataset into training and testing sets\n",
    "X = df_scaled.drop(columns=df_scaled[['dropout', 'college_name']])\n",
    "y = df_scaled['dropout']\n",
    "\n",
    "X_train, X_test, y_train, y_test = train_test_split(X, y, test_size=0.3, random_state=66, stratify=y)\n",
    "\n",
    "# Initialize the XGBoost model with default parameters\n",
    "xgb_model = XGBClassifier(use_label_encoder=False, eval_metric='logloss')\n",
    "\n",
    "# Fit the model\n",
    "xgb_model.fit(X_train, y_train)\n",
    "\n",
    "# Predictions on the test set\n",
    "y_test_pred = xgb_model.predict(X_test)\n",
    "y_prob_xgb = xgb_model.predict_proba(X_test)[:, 1]\n",
    "\n",
    "# Calculate the evaluation metrics\n",
    "test_f1_xgb = f1_score(y_test, y_test_pred)\n",
    "test_precision_xgb = precision_score(y_test, y_test_pred)\n",
    "test_recall_xgb = recall_score(y_test, y_test_pred)\n",
    "test_confusion_matrix_xgb = confusion_matrix(y_test, y_test_pred)\n",
    "test_auc_roc_xgb = roc_auc_score(y_test, y_prob_xgb)\n",
    "\n",
    "# Printing the results\n",
    "print(f\"Test Set F1 Score: {test_f1_xgb:.4f}\")\n",
    "print(f\"Test Set Precision Score: {test_precision_xgb:.4f}\")\n",
    "print(f\"Test Set Recall Score: {test_recall_xgb:.4f}\")\n",
    "print(f\"Test Set Confusion Matrix:\\n{test_confusion_matrix_xgb}\")\n",
    "print(f\"Test Set AUC-ROC Score: {test_auc_roc_xgb:.4f}\")\n",
    "\n",
    "# Printing the classification report\n",
    "print(\"\\nClassification Report:\\n\", classification_report(y_test, y_test_pred))\n"
   ]
  },
  {
   "cell_type": "code",
   "execution_count": 139,
   "id": "b1d27ec9",
   "metadata": {
    "scrolled": true
   },
   "outputs": [
    {
     "name": "stdout",
     "output_type": "stream",
     "text": [
      "Fitting 5 folds for each of 100 candidates, totalling 500 fits\n"
     ]
    },
    {
     "name": "stderr",
     "output_type": "stream",
     "text": [
      "<frozen importlib._bootstrap>:228: RuntimeWarning: scipy._lib.messagestream.MessageStream size changed, may indicate binary incompatibility. Expected 56 from C header, got 64 from PyObject\n",
      "<frozen importlib._bootstrap>:228: RuntimeWarning: scipy._lib.messagestream.MessageStream size changed, may indicate binary incompatibility. Expected 56 from C header, got 64 from PyObject\n",
      "<frozen importlib._bootstrap>:228: RuntimeWarning: scipy._lib.messagestream.MessageStream size changed, may indicate binary incompatibility. Expected 56 from C header, got 64 from PyObject\n",
      "<frozen importlib._bootstrap>:228: RuntimeWarning: scipy._lib.messagestream.MessageStream size changed, may indicate binary incompatibility. Expected 56 from C header, got 64 from PyObject\n",
      "<frozen importlib._bootstrap>:228: RuntimeWarning: scipy._lib.messagestream.MessageStream size changed, may indicate binary incompatibility. Expected 56 from C header, got 64 from PyObject\n",
      "<frozen importlib._bootstrap>:228: RuntimeWarning: scipy._lib.messagestream.MessageStream size changed, may indicate binary incompatibility. Expected 56 from C header, got 64 from PyObject\n",
      "<frozen importlib._bootstrap>:228: RuntimeWarning: scipy._lib.messagestream.MessageStream size changed, may indicate binary incompatibility. Expected 56 from C header, got 64 from PyObject\n",
      "<frozen importlib._bootstrap>:228: RuntimeWarning: scipy._lib.messagestream.MessageStream size changed, may indicate binary incompatibility. Expected 56 from C header, got 64 from PyObject\n"
     ]
    },
    {
     "name": "stdout",
     "output_type": "stream",
     "text": [
      "Best Parameters: {'subsample': 1.0, 'reg_lambda': 10, 'reg_alpha': 0, 'n_estimators': 400, 'max_depth': 5, 'learning_rate': 0.1, 'gamma': 0.4, 'colsample_bytree': 0.9}\n",
      "Test Set F1 Score: 0.5632\n",
      "Test Set Precision Score: 0.6934\n",
      "Test Set Recall Score: 0.4742\n",
      "Test Set Confusion Matrix:\n",
      "[[435  65]\n",
      " [163 147]]\n",
      "Test Set AUC-ROC Score: 0.7341\n",
      "\n",
      "Classification Report:\n",
      "               precision    recall  f1-score   support\n",
      "\n",
      "           0       0.73      0.87      0.79       500\n",
      "           1       0.69      0.47      0.56       310\n",
      "\n",
      "    accuracy                           0.72       810\n",
      "   macro avg       0.71      0.67      0.68       810\n",
      "weighted avg       0.71      0.72      0.70       810\n",
      "\n"
     ]
    }
   ],
   "source": [
    "# Define the parameter grid for RandomizedSearchCV\n",
    "param_dist = {\n",
    "    'n_estimators': [100, 200, 300, 400, 500],\n",
    "    'learning_rate': [0.001, 0.01, 0.1, 0.2, 0.3],\n",
    "    'max_depth': [3, 4, 5, 6, 7, 8],\n",
    "    'subsample': [0.6, 0.7, 0.8, 0.9, 1.0],\n",
    "    'colsample_bytree': [0.6, 0.7, 0.8, 0.9, 1.0],\n",
    "    'gamma': [0, 0.1, 0.2, 0.3, 0.4, 0.5],\n",
    "    'reg_alpha': [0, 0.1, 0.5, 1, 2, 5, 10],\n",
    "    'reg_lambda': [0, 0.1, 0.5, 1, 2, 5, 10]\n",
    "}\n",
    "\n",
    "# Initialize the XGBoost model\n",
    "xgb_model = XGBClassifier(use_label_encoder=False, eval_metric='logloss')\n",
    "\n",
    "# Initialize RandomizedSearchCV with AUC-ROC as the scoring metric\n",
    "random_search = RandomizedSearchCV(xgb_model, param_distributions=param_dist, n_iter=100, \n",
    "                                   scoring='roc_auc', cv=5, random_state=66, n_jobs=-1, verbose=1)\n",
    "\n",
    "# Fit RandomizedSearchCV\n",
    "random_search.fit(X_train, y_train)\n",
    "\n",
    "# Get the best model\n",
    "best_xgb_model = random_search.best_estimator_\n",
    "\n",
    "# Predictions on the test set\n",
    "y_test_pred = best_xgb_model.predict(X_test)\n",
    "y_prob_xgb = best_xgb_model.predict_proba(X_test)[:, 1]\n",
    "\n",
    "# Calculate the evaluation metrics\n",
    "test_f1_xgb = f1_score(y_test, y_test_pred)\n",
    "test_precision_xgb = precision_score(y_test, y_test_pred)\n",
    "test_recall_xgb = recall_score(y_test, y_test_pred)\n",
    "test_confusion_matrix_xgb = confusion_matrix(y_test, y_test_pred)\n",
    "test_auc_roc_xgb = roc_auc_score(y_test, y_prob_xgb)\n",
    "\n",
    "# Printing the results\n",
    "print(f\"Best Parameters: {random_search.best_params_}\")\n",
    "print(f\"Test Set F1 Score: {test_f1_xgb:.4f}\")\n",
    "print(f\"Test Set Precision Score: {test_precision_xgb:.4f}\")\n",
    "print(f\"Test Set Recall Score: {test_recall_xgb:.4f}\")\n",
    "print(f\"Test Set Confusion Matrix:\\n{test_confusion_matrix_xgb}\")\n",
    "print(f\"Test Set AUC-ROC Score: {test_auc_roc_xgb:.4f}\")\n",
    "# Printing the classification report\n",
    "print(\"\\nClassification Report:\\n\", classification_report(y_test, y_test_pred))\n"
   ]
  },
  {
   "cell_type": "markdown",
   "id": "f40868b0",
   "metadata": {},
   "source": [
    "### Gradient Boosting"
   ]
  },
  {
   "cell_type": "code",
   "execution_count": 140,
   "id": "3b93b730",
   "metadata": {},
   "outputs": [
    {
     "name": "stdout",
     "output_type": "stream",
     "text": [
      "Test Set F1 Score: 0.5758\n",
      "Test Set Precision Score: 0.7109\n",
      "Test Set Recall Score: 0.4839\n",
      "Test Set Confusion Matrix:\n",
      "[[439  61]\n",
      " [160 150]]\n",
      "Test Set AUC-ROC Score: 0.7349\n",
      "\n",
      "Classification Report:\n",
      "               precision    recall  f1-score   support\n",
      "\n",
      "           0       0.73      0.88      0.80       500\n",
      "           1       0.71      0.48      0.58       310\n",
      "\n",
      "    accuracy                           0.73       810\n",
      "   macro avg       0.72      0.68      0.69       810\n",
      "weighted avg       0.72      0.73      0.71       810\n",
      "\n"
     ]
    }
   ],
   "source": [
    "import numpy as np\n",
    "from sklearn.ensemble import GradientBoostingClassifier\n",
    "from sklearn.model_selection import train_test_split\n",
    "from sklearn.metrics import precision_score, recall_score, f1_score, confusion_matrix, roc_auc_score, classification_report\n",
    "\n",
    "# Initialize the Gradient Boosting model with default parameters\n",
    "gb_model = GradientBoostingClassifier()\n",
    "\n",
    "# Fit the model\n",
    "gb_model.fit(X_train, y_train)\n",
    "\n",
    "# Predictions on the test set\n",
    "y_test_pred = gb_model.predict(X_test)\n",
    "y_prob_gb = gb_model.predict_proba(X_test)[:, 1]\n",
    "\n",
    "# Calculate the evaluation metrics\n",
    "test_f1_gb = f1_score(y_test, y_test_pred)\n",
    "test_precision_gb = precision_score(y_test, y_test_pred)\n",
    "test_recall_gb = recall_score(y_test, y_test_pred)\n",
    "test_confusion_matrix_gb = confusion_matrix(y_test, y_test_pred)\n",
    "test_auc_roc_gb = roc_auc_score(y_test, y_prob_gb)\n",
    "\n",
    "# Printing the results\n",
    "print(f\"Test Set F1 Score: {test_f1_gb:.4f}\")\n",
    "print(f\"Test Set Precision Score: {test_precision_gb:.4f}\")\n",
    "print(f\"Test Set Recall Score: {test_recall_gb:.4f}\")\n",
    "print(f\"Test Set Confusion Matrix:\\n{test_confusion_matrix_gb}\")\n",
    "print(f\"Test Set AUC-ROC Score: {test_auc_roc_gb:.4f}\")\n",
    "\n",
    "# Printing the classification report\n",
    "print(\"\\nClassification Report:\\n\", classification_report(y_test, y_test_pred))\n"
   ]
  },
  {
   "cell_type": "code",
   "execution_count": 141,
   "id": "6b0c46c3",
   "metadata": {},
   "outputs": [
    {
     "name": "stdout",
     "output_type": "stream",
     "text": [
      "Fitting 5 folds for each of 100 candidates, totalling 500 fits\n",
      "Best Parameters: {'subsample': 0.7, 'n_estimators': 200, 'min_samples_split': 10, 'min_samples_leaf': 4, 'max_depth': 3, 'learning_rate': 0.1}\n",
      "Test Set F1 Score: 0.5895\n",
      "Test Set Precision Score: 0.6708\n",
      "Test Set Recall Score: 0.5258\n",
      "Test Set Confusion Matrix:\n",
      "[[420  80]\n",
      " [147 163]]\n",
      "Test Set AUC-ROC Score: 0.7389\n",
      "\n",
      "Classification Report:\n",
      "               precision    recall  f1-score   support\n",
      "\n",
      "           0       0.74      0.84      0.79       500\n",
      "           1       0.67      0.53      0.59       310\n",
      "\n",
      "    accuracy                           0.72       810\n",
      "   macro avg       0.71      0.68      0.69       810\n",
      "weighted avg       0.71      0.72      0.71       810\n",
      "\n"
     ]
    }
   ],
   "source": [
    "# Define the parameter grid for RandomizedSearchCV\n",
    "param_dist = {\n",
    "    'n_estimators': [100, 200, 300],\n",
    "    'learning_rate': [0.001, 0.01, 0.1, 0.2],\n",
    "    'max_depth': [3, 4, 5],\n",
    "    'subsample': [0.6, 0.7, 0.8, 0.9, 1.0],\n",
    "    'min_samples_split': [2, 5, 10],\n",
    "    'min_samples_leaf': [1, 2, 4]\n",
    "}\n",
    "\n",
    "# Initialize the Gradient Boosting model\n",
    "gb_model = GradientBoostingClassifier()\n",
    "\n",
    "# Initialize RandomizedSearchCV with F1 as the scoring metric\n",
    "random_search = RandomizedSearchCV(gb_model, param_distributions=param_dist, n_iter=100, \n",
    "                                   scoring='f1', cv=5, random_state=66, n_jobs=-1, verbose=1)\n",
    "\n",
    "# Fit RandomizedSearchCV\n",
    "random_search.fit(X_train, y_train)\n",
    "\n",
    "# Get the best model\n",
    "best_gb_model = random_search.best_estimator_\n",
    "\n",
    "# Predictions on the test set\n",
    "y_test_pred = best_gb_model.predict(X_test)\n",
    "y_prob_gb = best_gb_model.predict_proba(X_test)[:, 1]\n",
    "\n",
    "# Calculate the evaluation metrics\n",
    "test_f1_gb = f1_score(y_test, y_test_pred)\n",
    "test_precision_gb = precision_score(y_test, y_test_pred)\n",
    "test_recall_gb = recall_score(y_test, y_test_pred)\n",
    "test_confusion_matrix_gb = confusion_matrix(y_test, y_test_pred)\n",
    "test_auc_roc_gb = roc_auc_score(y_test, y_prob_gb)\n",
    "\n",
    "# Printing the results\n",
    "print(f\"Best Parameters: {random_search.best_params_}\")\n",
    "print(f\"Test Set F1 Score: {test_f1_gb:.4f}\")\n",
    "print(f\"Test Set Precision Score: {test_precision_gb:.4f}\")\n",
    "print(f\"Test Set Recall Score: {test_recall_gb:.4f}\")\n",
    "print(f\"Test Set Confusion Matrix:\\n{test_confusion_matrix_gb}\")\n",
    "print(f\"Test Set AUC-ROC Score: {test_auc_roc_gb:.4f}\")\n",
    "\n",
    "# Printing the classification report\n",
    "print(\"\\nClassification Report:\\n\", classification_report(y_test, y_test_pred))\n"
   ]
  },
  {
   "cell_type": "code",
   "execution_count": 144,
   "id": "3cef015a",
   "metadata": {},
   "outputs": [
    {
     "data": {
      "image/png": "[encoded data removed]",
      "text/plain": [
       "<Figure size 432x288 with 1 Axes>"
      ]
     },
     "metadata": {
      "needs_background": "light"
     },
     "output_type": "display_data"
    }
   ],
   "source": [
    "import matplotlib.pyplot as plt\n",
    "import numpy as np\n",
    "\n",
    "# Assuming X_train is a DataFrame with column names\n",
    "feature_importances = best_gb_model.feature_importances_\n",
    "features = X_train.columns\n",
    "\n",
    "# Sorting the feature importances\n",
    "sorted_indices = np.argsort(feature_importances)[::-1]\n",
    "\n",
    "plt.barh(features[sorted_indices], feature_importances[sorted_indices])\n",
    "plt.ylabel('Features')\n",
    "plt.xlabel('Importance')\n",
    "plt.title('Feature Importance')\n",
    "plt.show()\n"
   ]
  },
  {
   "cell_type": "code",
   "execution_count": 152,
   "id": "f00535c8",
   "metadata": {},
   "outputs": [
    {
     "data": {
      "image/png": "[encoded data removed]",
      "text/plain": [
       "<Figure size 576x540 with 1 Axes>"
      ]
     },
     "metadata": {
      "needs_background": "light"
     },
     "output_type": "display_data"
    }
   ],
   "source": [
    "import shap\n",
    "\n",
    "explainer = shap.TreeExplainer(best_gb_model)\n",
    "shap_values = explainer.shap_values(X_train)\n",
    "shap.summary_plot(shap_values, X_train, plot_type=\"bar\")\n"
   ]
  },
  {
   "cell_type": "code",
   "execution_count": 169,
   "id": "bbfaa7ae",
   "metadata": {},
   "outputs": [
    {
     "data": {
      "image/png": "[encoded data removed]",
      "text/plain": [
       "<Figure size 432x288 with 1 Axes>"
      ]
     },
     "metadata": {
      "needs_background": "light"
     },
     "output_type": "display_data"
    }
   ],
   "source": [
    "from sklearn.model_selection import learning_curve\n",
    "import matplotlib.pyplot as plt\n",
    "\n",
    "train_sizes, train_scores, validation_scores = learning_curve(\n",
    "    estimator=gb_model,\n",
    "    X=X_train,\n",
    "    y=y_train,\n",
    "    train_sizes=np.linspace(0.1, 1.0, 10),\n",
    "    cv=5,\n",
    "    scoring='accuracy'\n",
    ")\n",
    "\n",
    "# Mean and standard deviation of training and validation scores\n",
    "train_scores_mean = np.mean(train_scores, axis=1)\n",
    "train_scores_std = np.std(train_scores, axis=1)\n",
    "validation_scores_mean = np.mean(validation_scores, axis=1)\n",
    "validation_scores_std = np.std(validation_scores, axis=1)\n",
    "\n",
    "plt.fill_between(train_sizes, train_scores_mean - train_scores_std,\n",
    "                 train_scores_mean + train_scores_std, color='r', alpha=0.1)\n",
    "plt.fill_between(train_sizes, validation_scores_mean - validation_scores_std,\n",
    "                 validation_scores_mean + validation_scores_std, color='g', alpha=0.1)\n",
    "\n",
    "plt.plot(train_sizes, train_scores_mean, 'o-', color=\"r\", label=\"Training score\")\n",
    "plt.plot(train_sizes, validation_scores_mean, 'o-', color=\"g\", label=\"Cross-validation score\")\n",
    "\n",
    "plt.title('Retention Learning curves for Gradient Boosting')\n",
    "plt.xlabel('Training examples')\n",
    "plt.ylabel('Score')\n",
    "plt.legend(loc=\"best\")\n",
    "plt.show()\n"
   ]
  },
  {
   "cell_type": "code",
   "execution_count": 170,
   "id": "52f5c3ea",
   "metadata": {},
   "outputs": [
    {
     "name": "stderr",
     "output_type": "stream",
     "text": [
      "<frozen importlib._bootstrap>:228: RuntimeWarning: scipy._lib.messagestream.MessageStream size changed, may indicate binary incompatibility. Expected 56 from C header, got 64 from PyObject\n",
      "<frozen importlib._bootstrap>:228: RuntimeWarning: scipy._lib.messagestream.MessageStream size changed, may indicate binary incompatibility. Expected 56 from C header, got 64 from PyObject\n",
      "<frozen importlib._bootstrap>:228: RuntimeWarning: scipy._lib.messagestream.MessageStream size changed, may indicate binary incompatibility. Expected 56 from C header, got 64 from PyObject\n",
      "<frozen importlib._bootstrap>:228: RuntimeWarning: scipy._lib.messagestream.MessageStream size changed, may indicate binary incompatibility. Expected 56 from C header, got 64 from PyObject\n",
      "<frozen importlib._bootstrap>:228: RuntimeWarning: scipy._lib.messagestream.MessageStream size changed, may indicate binary incompatibility. Expected 56 from C header, got 64 from PyObject\n",
      "<frozen importlib._bootstrap>:228: RuntimeWarning: scipy._lib.messagestream.MessageStream size changed, may indicate binary incompatibility. Expected 56 from C header, got 64 from PyObject\n",
      "<frozen importlib._bootstrap>:228: RuntimeWarning: scipy._lib.messagestream.MessageStream size changed, may indicate binary incompatibility. Expected 56 from C header, got 64 from PyObject\n",
      "<frozen importlib._bootstrap>:228: RuntimeWarning: scipy._lib.messagestream.MessageStream size changed, may indicate binary incompatibility. Expected 56 from C header, got 64 from PyObject\n"
     ]
    },
    {
     "data": {
      "image/png": "[encoded data removed]",
      "text/plain": [
       "<Figure size 432x288 with 1 Axes>"
      ]
     },
     "metadata": {
      "needs_background": "light"
     },
     "output_type": "display_data"
    }
   ],
   "source": [
    "from sklearn.model_selection import learning_curve\n",
    "import matplotlib.pyplot as plt\n",
    "\n",
    "train_sizes, train_scores, validation_scores = learning_curve(\n",
    "    estimator=naive_logistic_model,\n",
    "    X=X_train,\n",
    "    y=y_train,\n",
    "    train_sizes=np.linspace(0.1, 1.0, 10),\n",
    "    cv=5,\n",
    "    scoring='accuracy'\n",
    ")\n",
    "\n",
    "# Mean and standard deviation of training and validation scores\n",
    "train_scores_mean = np.mean(train_scores, axis=1)\n",
    "train_scores_std = np.std(train_scores, axis=1)\n",
    "validation_scores_mean = np.mean(validation_scores, axis=1)\n",
    "validation_scores_std = np.std(validation_scores, axis=1)\n",
    "\n",
    "plt.fill_between(train_sizes, train_scores_mean - train_scores_std,\n",
    "                 train_scores_mean + train_scores_std, color='r', alpha=0.1)\n",
    "plt.fill_between(train_sizes, validation_scores_mean - validation_scores_std,\n",
    "                 validation_scores_mean + validation_scores_std, color='g', alpha=0.1)\n",
    "\n",
    "plt.plot(train_sizes, train_scores_mean, 'o-', color=\"r\", label=\"Training score\")\n",
    "plt.plot(train_sizes, validation_scores_mean, 'o-', color=\"g\", label=\"Cross-validation score\")\n",
    "\n",
    "plt.title('Retention Learning curves for Logistic Regression')\n",
    "plt.xlabel('Training examples')\n",
    "plt.ylabel('Score')\n",
    "plt.legend(loc=\"best\")\n",
    "plt.show()\n"
   ]
  },
  {
   "cell_type": "code",
   "execution_count": 175,
   "id": "5c8613d8",
   "metadata": {},
   "outputs": [
    {
     "data": {
      "image/png": "[encoded data removed]",
      "text/plain": [
       "<Figure size 432x288 with 1 Axes>"
      ]
     },
     "metadata": {
      "needs_background": "light"
     },
     "output_type": "display_data"
    }
   ],
   "source": [
    "from sklearn.model_selection import learning_curve\n",
    "import matplotlib.pyplot as plt\n",
    "\n",
    "train_sizes, train_scores, validation_scores = learning_curve(\n",
    "    estimator=xgb_model,\n",
    "    X=X_train,\n",
    "    y=y_train,\n",
    "    train_sizes=np.linspace(0.1, 1.0, 10),\n",
    "    cv=5,\n",
    "    scoring='accuracy'\n",
    ")\n",
    "\n",
    "# Mean and standard deviation of training and validation scores\n",
    "train_scores_mean = np.mean(train_scores, axis=1)\n",
    "train_scores_std = np.std(train_scores, axis=1)\n",
    "validation_scores_mean = np.mean(validation_scores, axis=1)\n",
    "validation_scores_std = np.std(validation_scores, axis=1)\n",
    "\n",
    "plt.fill_between(train_sizes, train_scores_mean - train_scores_std,\n",
    "                 train_scores_mean + train_scores_std, color='r', alpha=0.1)\n",
    "plt.fill_between(train_sizes, validation_scores_mean - validation_scores_std,\n",
    "                 validation_scores_mean + validation_scores_std, color='g', alpha=0.1)\n",
    "\n",
    "plt.plot(train_sizes, train_scores_mean, 'o-', color=\"r\", label=\"Training score\")\n",
    "plt.plot(train_sizes, validation_scores_mean, 'o-', color=\"g\", label=\"Cross-validation score\")\n",
    "\n",
    "plt.title('Retention Learning curves for XGBoosting')\n",
    "plt.xlabel('Training examples')\n",
    "plt.ylabel('Score')\n",
    "plt.legend(loc=\"best\")\n",
    "plt.show()\n"
   ]
  },
  {
   "cell_type": "code",
   "execution_count": 171,
   "id": "85500732",
   "metadata": {},
   "outputs": [
    {
     "data": {
      "image/png": "[encoded data removed]",
      "text/plain": [
       "<Figure size 432x288 with 1 Axes>"
      ]
     },
     "metadata": {
      "needs_background": "light"
     },
     "output_type": "display_data"
    }
   ],
   "source": [
    "from sklearn.model_selection import learning_curve\n",
    "import matplotlib.pyplot as plt\n",
    "\n",
    "train_sizes, train_scores, validation_scores = learning_curve(\n",
    "    estimator=svm_model,\n",
    "    X=X_train,\n",
    "    y=y_train,\n",
    "    train_sizes=np.linspace(0.1, 1.0, 10),\n",
    "    cv=5,\n",
    "    scoring='accuracy'\n",
    ")\n",
    "\n",
    "# Mean and standard deviation of training and validation scores\n",
    "train_scores_mean = np.mean(train_scores, axis=1)\n",
    "train_scores_std = np.std(train_scores, axis=1)\n",
    "validation_scores_mean = np.mean(validation_scores, axis=1)\n",
    "validation_scores_std = np.std(validation_scores, axis=1)\n",
    "\n",
    "plt.fill_between(train_sizes, train_scores_mean - train_scores_std,\n",
    "                 train_scores_mean + train_scores_std, color='r', alpha=0.1)\n",
    "plt.fill_between(train_sizes, validation_scores_mean - validation_scores_std,\n",
    "                 validation_scores_mean + validation_scores_std, color='g', alpha=0.1)\n",
    "\n",
    "plt.plot(train_sizes, train_scores_mean, 'o-', color=\"r\", label=\"Training score\")\n",
    "plt.plot(train_sizes, validation_scores_mean, 'o-', color=\"g\", label=\"Cross-validation score\")\n",
    "\n",
    "plt.title('Retention Learning curves for SVM')\n",
    "plt.xlabel('Training examples')\n",
    "plt.ylabel('Score')\n",
    "plt.legend(loc=\"best\")\n",
    "plt.show()\n"
   ]
  },
  {
   "cell_type": "markdown",
   "id": "87426e98",
   "metadata": {},
   "source": [
    "The SVM learning curve (with training scores starting high and sharply decreasing, and validation scores rising then leveling off) suggests a better model. This curve shows that the model starts with potential overfitting but adjusts well as more data is introduced, resulting in a stable generalization indicated by both scores plateauing closely. The reduced gap between training and validation scores also suggests less overfitting compared to the logistic regression curve, where the gap remains slightly wider throughout the training. This makes the model  a better choice in terms of both fit and generalization."
   ]
  },
  {
   "cell_type": "code",
   "execution_count": 172,
   "id": "56e687e8",
   "metadata": {},
   "outputs": [
    {
     "data": {
      "image/png": "[encoded data removed]",
      "text/plain": [
       "<Figure size 576x432 with 1 Axes>"
      ]
     },
     "metadata": {
      "needs_background": "light"
     },
     "output_type": "display_data"
    }
   ],
   "source": [
    "import matplotlib.pyplot as plt\n",
    "from sklearn.metrics import roc_curve, auc\n",
    "\n",
    "# Assume y_prob_model1, y_prob_model2, y_prob_model3, y_prob_model4 are the probability predictions of the models\n",
    "# Compute ROC curve and ROC area for each of the models\n",
    "fpr1, tpr1, _ = roc_curve(y_test, y_prob_lr)\n",
    "roc_auc1 = auc(fpr1, tpr1)\n",
    "\n",
    "fpr2, tpr2, _ = roc_curve(y_test, y_prob_svm)\n",
    "roc_auc2 = auc(fpr2, tpr2)\n",
    "\n",
    "fpr3, tpr3, _ = roc_curve(y_test, y_prob_gb)\n",
    "roc_auc3 = auc(fpr3, tpr3)\n",
    "\n",
    "# Plotting\n",
    "plt.figure(figsize=(8, 6))\n",
    "plt.plot(fpr1, tpr1, color='darkorange', lw=2, label='Logistic Regression (area = %0.2f)' % roc_auc1)\n",
    "plt.plot(fpr2, tpr2, color='blue', lw=2, label='SVM (area = %0.2f)' % roc_auc2)\n",
    "plt.plot(fpr3, tpr3, color='green', lw=2, label='Gradient Boosting (area = %0.2f)' % roc_auc3)\n",
    "plt.plot([0, 1], [0, 1], color='green', lw=2, linestyle='--')\n",
    "plt.xlim([0.0, 1.0])\n",
    "plt.ylim([0.0, 1.05])\n",
    "plt.xlabel('False Positive Rate')\n",
    "plt.ylabel('True Positive Rate')\n",
    "plt.title('Predicting Retention: Receiver Operating Characteristic Comparison')\n",
    "plt.legend(loc=\"lower right\")\n",
    "plt.show()\n"
   ]
  },
  {
   "cell_type": "code",
   "execution_count": 174,
   "id": "7585a104",
   "metadata": {},
   "outputs": [
    {
     "data": {
      "image/png": "[encoded data removed]",
      "text/plain": [
       "<Figure size 576x432 with 1 Axes>"
      ]
     },
     "metadata": {
      "needs_background": "light"
     },
     "output_type": "display_data"
    }
   ],
   "source": [
    "import matplotlib.pyplot as plt\n",
    "from sklearn.metrics import roc_curve, auc\n",
    "\n",
    "# Assume y_prob_model1, y_prob_model2, y_prob_model3, y_prob_model4 are the probability predictions of the models\n",
    "# Compute ROC curve and ROC area for each of the models\n",
    "fpr1, tpr1, _ = roc_curve(y_test, y_prob_lr)\n",
    "roc_auc1 = auc(fpr1, tpr1)\n",
    "\n",
    "fpr2, tpr2, _ = roc_curve(y_test, y_prob_svm)\n",
    "roc_auc2 = auc(fpr2, tpr2)\n",
    "\n",
    "fpr3, tpr3, _ = roc_curve(y_test, y_prob_xgb)\n",
    "roc_auc3 = auc(fpr3, tpr3)\n",
    "\n",
    "fpr4, tpr4, _ = roc_curve(y_test, y_prob_gb)\n",
    "roc_auc4 = auc(fpr4, tpr4)\n",
    "\n",
    "# Plotting\n",
    "plt.figure(figsize=(8, 6))\n",
    "plt.plot(fpr1, tpr1, color='darkorange', lw=2, label='Logistic Regression (area = %0.2f)' % roc_auc1)\n",
    "plt.plot(fpr2, tpr2, color='blue', lw=2, label='SVM (area = %0.2f)' % roc_auc2)\n",
    "plt.plot(fpr3, tpr3, color='green', lw=2, label='XGBoosting (area = %0.2f)' % roc_auc3)\n",
    "plt.plot(fpr4, tpr4, color='red', lw=2, label='Gradient Boosting (area = %0.2f)' % roc_auc4)\n",
    "plt.plot([0, 1], [0, 1], color='green', lw=2, linestyle='--')\n",
    "plt.xlim([0.0, 1.0])\n",
    "plt.ylim([0.0, 1.05])\n",
    "plt.xlabel('False Positive Rate')\n",
    "plt.ylabel('True Positive Rate')\n",
    "plt.title('Predicting Retention: Receiver Operating Characteristic Comparison')\n",
    "plt.legend(loc=\"lower right\")\n",
    "plt.show()\n"
   ]
  },
  {
   "cell_type": "code",
   "execution_count": null,
   "id": "19f21155",
   "metadata": {},
   "outputs": [],
   "source": []
  }
 ],
 "metadata": {
  "kernelspec": {
   "display_name": "Python 3 (ipykernel)",
   "language": "python",
   "name": "python3"
  },
  "language_info": {
   "codemirror_mode": {
    "name": "ipython",
    "version": 3
   },
   "file_extension": ".py",
   "mimetype": "text/x-python",
   "name": "python",
   "nbconvert_exporter": "python",
   "pygments_lexer": "ipython3",
   "version": "3.9.7"
  }
 },
 "nbformat": 4,
 "nbformat_minor": 5
}
